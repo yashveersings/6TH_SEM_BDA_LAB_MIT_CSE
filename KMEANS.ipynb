{
 "cells": [
  {
   "cell_type": "code",
   "execution_count": 1,
   "id": "62ab996d",
   "metadata": {},
   "outputs": [],
   "source": [
    "import pyspark\n",
    "from pyspark.sql import SparkSession\n",
    "import os\n",
    "import sys"
   ]
  },
  {
   "cell_type": "code",
   "execution_count": 2,
   "id": "b8f6fe5f",
   "metadata": {},
   "outputs": [],
   "source": [
    "os.environ['PYSPARK_PYTHON']=sys.executable\n",
    "os.environ['PYSPARK_DRIVER_PYTHON']=sys.executable\n",
    "\n",
    "spark=SparkSession.builder.appName('KMeans').getOrCreate()"
   ]
  },
  {
   "cell_type": "code",
   "execution_count": 3,
   "id": "f0582986",
   "metadata": {},
   "outputs": [],
   "source": [
    "path=r\"C:\\Users\\LENOVO\\Desktop\\SUB 6TH SEM\\BDA\\LAB\\kddcup.data_10_percent\"\n",
    "\n",
    "data_without_header=spark.read.csv(path,inferSchema=True,header=False)\n",
    "\n",
    "column_names = [ \"duration\", \"protocol_type\", \"service\", \"flag\",\n",
    "\"src_bytes\", \"dst_bytes\", \"land\", \"wrong_fragment\", \"urgent\",\n",
    "\"hot\", \"num_failed_logins\", \"logged_in\", \"num_compromised\",\n",
    "\"root_shell\", \"su_attempted\", \"num_root\", \"num_file_creations\",\n",
    "\"num_shells\", \"num_access_files\", \"num_outbound_cmds\",\n",
    "\"is_host_login\", \"is_guest_login\", \"count\", \"srv_count\",\n",
    "\"serror_rate\", \"srv_serror_rate\", \"rerror_rate\", \"srv_rerror_rate\",\n",
    "\"same_srv_rate\", \"diff_srv_rate\", \"srv_diff_host_rate\",\n",
    "\"dst_host_count\", \"dst_host_srv_count\",\n",
    "\"dst_host_same_srv_rate\", \"dst_host_diff_srv_rate\",\n",
    "\"dst_host_same_src_port_rate\", \"dst_host_srv_diff_host_rate\",\n",
    "\"dst_host_serror_rate\", \"dst_host_srv_serror_rate\",\n",
    "\"dst_host_rerror_rate\", \"dst_host_srv_rerror_rate\",\n",
    "\"label\"]\n",
    "\n",
    "data=data_without_header.toDF(*column_names)"
   ]
  },
  {
   "cell_type": "code",
   "execution_count": 4,
   "id": "06f4d141",
   "metadata": {},
   "outputs": [
    {
     "name": "stdout",
     "output_type": "stream",
     "text": [
      "+----------------+------+\n",
      "|           label| count|\n",
      "+----------------+------+\n",
      "|          smurf.|280790|\n",
      "|        neptune.|107201|\n",
      "|         normal.| 97278|\n",
      "|           back.|  2203|\n",
      "|          satan.|  1589|\n",
      "|        ipsweep.|  1247|\n",
      "|      portsweep.|  1040|\n",
      "|    warezclient.|  1020|\n",
      "|       teardrop.|   979|\n",
      "|            pod.|   264|\n",
      "|           nmap.|   231|\n",
      "|   guess_passwd.|    53|\n",
      "|buffer_overflow.|    30|\n",
      "|           land.|    21|\n",
      "|    warezmaster.|    20|\n",
      "|           imap.|    12|\n",
      "|        rootkit.|    10|\n",
      "|     loadmodule.|     9|\n",
      "|      ftp_write.|     8|\n",
      "|       multihop.|     7|\n",
      "+----------------+------+\n",
      "only showing top 20 rows\n",
      "\n"
     ]
    }
   ],
   "source": [
    "from pyspark.sql.functions import col\n",
    "data.select(col('label')).groupBy(col('label')).count().orderBy(col('count').desc()).show()"
   ]
  },
  {
   "cell_type": "code",
   "execution_count": 47,
   "id": "52ea89bb",
   "metadata": {},
   "outputs": [
    {
     "name": "stdout",
     "output_type": "stream",
     "text": [
      "[array([4.79793956e+01, 1.62207883e+03, 8.68534183e+02, 4.45326100e-05,\n",
      "       6.43293794e-03, 1.41694668e-05, 3.45168212e-02, 1.51815716e-04,\n",
      "       1.48247035e-01, 1.02121372e-02, 1.11331525e-04, 3.64357718e-05,\n",
      "       1.13517671e-02, 1.08295211e-03, 1.09307315e-04, 1.00805635e-03,\n",
      "       0.00000000e+00, 0.00000000e+00, 1.38658354e-03, 3.32286248e+02,\n",
      "       2.92907143e+02, 1.76685418e-01, 1.76607809e-01, 5.74330999e-02,\n",
      "       5.77183920e-02, 7.91548844e-01, 2.09816404e-02, 2.89968625e-02,\n",
      "       2.32470732e+02, 1.88666046e+02, 7.53781203e-01, 3.09056111e-02,\n",
      "       6.01935529e-01, 6.68351484e-03, 1.76753957e-01, 1.76441622e-01,\n",
      "       5.81176268e-02, 5.74111170e-02]),\n",
      " array([2.0000000e+00, 6.9337564e+08, 0.0000000e+00, 0.0000000e+00,\n",
      "       0.0000000e+00, 0.0000000e+00, 1.0000000e+00, 0.0000000e+00,\n",
      "       0.0000000e+00, 0.0000000e+00, 0.0000000e+00, 0.0000000e+00,\n",
      "       0.0000000e+00, 0.0000000e+00, 0.0000000e+00, 0.0000000e+00,\n",
      "       0.0000000e+00, 0.0000000e+00, 0.0000000e+00, 5.7000000e+01,\n",
      "       3.0000000e+00, 7.9000000e-01, 6.7000000e-01, 2.1000000e-01,\n",
      "       3.3000000e-01, 5.0000000e-02, 3.9000000e-01, 0.0000000e+00,\n",
      "       2.5500000e+02, 3.0000000e+00, 1.0000000e-02, 9.0000000e-02,\n",
      "       2.2000000e-01, 0.0000000e+00, 1.8000000e-01, 6.7000000e-01,\n",
      "       5.0000000e-02, 3.3000000e-01])]\n"
     ]
    }
   ],
   "source": [
    "from pyspark.ml.feature import VectorAssembler\n",
    "from pyspark.ml.clustering import KMeans, KMeansModel\n",
    "from pyspark.ml import Pipeline\n",
    "from pprint import pprint\n",
    "\n",
    "numeric_data=data.drop('service','flag','protocol_type')\n",
    "assembler=VectorAssembler().setInputCols(numeric_data.columns[:-1]).setOutputCol('featureVector')\n",
    "kmeans=KMeans().setPredictionCol('Cluster').setFeaturesCol('featureVector')\n",
    "pipeline=Pipeline().setStages([assembler,kmeans])\n",
    "pipeline_model=pipeline.fit(numeric_data)\n",
    "kmeans_model=pipeline_model.stages[1]\n",
    "pprint(kmeans_model.clusterCenters())"
   ]
  },
  {
   "cell_type": "code",
   "execution_count": 6,
   "id": "56426d0e",
   "metadata": {},
   "outputs": [
    {
     "name": "stdout",
     "output_type": "stream",
     "text": [
      "+----------------+-------+------+\n",
      "|           label|Cluster| count|\n",
      "+----------------+-------+------+\n",
      "|        neptune.|      0|107201|\n",
      "|         normal.|      0| 97278|\n",
      "|        ipsweep.|      0|  1247|\n",
      "|     loadmodule.|      0|     9|\n",
      "|       teardrop.|      0|   979|\n",
      "|          smurf.|      0|280790|\n",
      "|      portsweep.|      0|  1039|\n",
      "|            pod.|      0|   264|\n",
      "|buffer_overflow.|      0|    30|\n",
      "|   guess_passwd.|      0|    53|\n",
      "|           perl.|      0|     3|\n",
      "|           land.|      0|    21|\n",
      "|          satan.|      0|  1589|\n",
      "|      portsweep.|      1|     1|\n",
      "|      ftp_write.|      0|     8|\n",
      "|            phf.|      0|     4|\n",
      "|           back.|      0|  2203|\n",
      "|           nmap.|      0|   231|\n",
      "|           imap.|      0|    12|\n",
      "|       multihop.|      0|     7|\n",
      "+----------------+-------+------+\n",
      "only showing top 20 rows\n",
      "\n"
     ]
    }
   ],
   "source": [
    "clustered_data=pipeline_model.transform(numeric_data)\n",
    "clustered_data.select('label','Cluster').groupBy('label','Cluster').count().show()"
   ]
  },
  {
   "cell_type": "markdown",
   "id": "4b2b9d57",
   "metadata": {},
   "source": [
    "Choosing K"
   ]
  },
  {
   "cell_type": "code",
   "execution_count": 12,
   "id": "bb9fd756",
   "metadata": {},
   "outputs": [
    {
     "name": "stdout",
     "output_type": "stream",
     "text": [
      "20 34615925837028.062\n",
      "40 9306707158393.582\n",
      "60 7972928544231.26\n",
      "80 7970651131204.402\n",
      "100 3563548500375.7725\n"
     ]
    }
   ],
   "source": [
    "def clustering_score(data,k):\n",
    "    numeric_data=data.drop('service','flag','protocol_type')\n",
    "    assembler=VectorAssembler().setInputCols(numeric_data.columns[:-1]).setOutputCol('featureVector')\n",
    "    scalar=StandaradScalar().setInputCol('featureVector').setOutputCol('standard')\n",
    "    kmeans=KMeans().setK(k).setPredictionCol('Cluster').setFeaturesCol('featureVector')\n",
    "    pipeline=Pipeline().setStages([assembler,kmeans])\n",
    "    pipeline_model=pipeline.fit(numeric_data)\n",
    "    kmeans_model=pipeline_model.stages[-1]\n",
    "    training_cost=kmeans_model.summary.trainingCost\n",
    "    return training_cost\n",
    "    \n",
    "for k in list(range(20,101, 20)):\n",
    "    print(k, clustering_score(data, k))\n",
    "    \n",
    "    "
   ]
  },
  {
   "cell_type": "code",
   "execution_count": null,
   "id": "b74f76c8",
   "metadata": {},
   "outputs": [],
   "source": [
    "#Feature Normalisation"
   ]
  },
  {
   "cell_type": "code",
   "execution_count": 17,
   "id": "74ce3092",
   "metadata": {},
   "outputs": [
    {
     "name": "stdout",
     "output_type": "stream",
     "text": [
      "20 2791501.228517172\n",
      "40 1067870.7713538604\n",
      "60 582951.1564411405\n",
      "80 395232.1962467235\n",
      "100 312257.92762681295\n"
     ]
    }
   ],
   "source": [
    "from pyspark.ml.feature import StandardScaler\n",
    "def clustering_score(data,k):\n",
    "    numeric_data=data.drop('service','flag','protocol_type')\n",
    "    assembler=VectorAssembler().setInputCols(numeric_data.columns[:-1]).setOutputCol('featureVector')\n",
    "    scalar=StandardScaler().setInputCol('featureVector').setOutputCol('standardFeatureVector').setWithStd(True).setWithMean(False)\n",
    "    kmeans=KMeans().setK(k).setPredictionCol('Cluster').setFeaturesCol('standardFeatureVector')\n",
    "    pipeline=Pipeline().setStages([assembler,scalar,kmeans])\n",
    "    pipeline_model=pipeline.fit(numeric_data)\n",
    "    kmeans_model=pipeline_model.stages[-1]\n",
    "    training_cost=kmeans_model.summary.trainingCost\n",
    "    return training_cost\n",
    "    \n",
    "for k in list(range(20,101, 20)):\n",
    "    print(k, clustering_score(data, k))"
   ]
  },
  {
   "cell_type": "code",
   "execution_count": null,
   "id": "76d96e26",
   "metadata": {},
   "outputs": [],
   "source": [
    "#Categorical Variables"
   ]
  },
  {
   "cell_type": "code",
   "execution_count": 41,
   "id": "9b17edc4",
   "metadata": {
    "scrolled": true
   },
   "outputs": [
    {
     "name": "stdout",
     "output_type": "stream",
     "text": [
      "60 16709099.999693863\n",
      "90 7143825.712558743\n",
      "120 1708663.428507424\n",
      "150 1028144.2874173195\n",
      "180 705246.1290458554\n",
      "210 620445.1911539775\n",
      "240 493977.1866159912\n",
      "270 397326.11690454604\n"
     ]
    }
   ],
   "source": [
    "from pyspark.ml import Pipeline\n",
    "from pyspark.ml.clustering import KMeans\n",
    "from pyspark.ml.feature import OneHotEncoder, StringIndexer, VectorAssembler, StandardScaler\n",
    "from random import randint\n",
    "\n",
    "def one_hot_pipeline(input_col):\n",
    "    indexer = StringIndexer(inputCol=input_col, outputCol=input_col + \"_indexed\")\n",
    "    encoder = OneHotEncoder(inputCol=input_col + \"_indexed\", outputCol=input_col + \"_vec\")\n",
    "    pipeline = Pipeline(stages=[indexer, encoder])\n",
    "    return pipeline, input_col + \"_vec\"\n",
    "\n",
    "def clustering_score_3(input_data, k):\n",
    "    proto_type_pipeline, proto_type_vec_col = one_hot_pipeline(\"protocol_type\")\n",
    "    service_pipeline, service_vec_col = one_hot_pipeline(\"service\")\n",
    "    flag_pipeline, flag_vec_col = one_hot_pipeline(\"flag\")\n",
    "    \n",
    "    assemble_cols = set(input_data.columns) - {\"label\", \"protocol_type\", \"service\", \"flag\"} | \\\n",
    "                    {proto_type_vec_col, service_vec_col, flag_vec_col}\n",
    "    \n",
    "    assembler = VectorAssembler(inputCols=list(assemble_cols), outputCol=\"featureVector\")\n",
    "    scaler = StandardScaler(inputCol=\"featureVector\", outputCol=\"scaledFeatureVector\", \n",
    "                            withStd=True, withMean=False)\n",
    "    \n",
    "    kmeans = KMeans().setSeed(randint(100, 100000)).setK(k).setMaxIter(40).setTol(1.0e-5).\\\n",
    "             setPredictionCol(\"cluster\").setFeaturesCol(\"scaledFeatureVector\")\n",
    "    \n",
    "    pipeline = Pipeline(stages=[proto_type_pipeline, service_pipeline, flag_pipeline, \n",
    "                                assembler, scaler, kmeans])\n",
    "    \n",
    "    pipeline_model = pipeline.fit(input_data)\n",
    "    kmeans_model = pipeline_model.stages[-1]\n",
    "    training_cost = kmeans_model.summary.trainingCost\n",
    "    \n",
    "    return training_cost\n",
    "\n",
    "for k in range(60, 271, 30):\n",
    "    print(k, clustering_score_3(data, k))\n"
   ]
  },
  {
   "cell_type": "code",
   "execution_count": null,
   "id": "b5e3b5d7",
   "metadata": {},
   "outputs": [],
   "source": [
    "#using_labels with entropy"
   ]
  },
  {
   "cell_type": "code",
   "execution_count": 43,
   "id": "e70af5ce",
   "metadata": {},
   "outputs": [
    {
     "data": {
      "text/plain": [
       "1.557605039016584"
      ]
     },
     "execution_count": 43,
     "metadata": {},
     "output_type": "execute_result"
    }
   ],
   "source": [
    "from math import log\n",
    "from pyspark.sql import functions as F\n",
    "from pyspark.sql import Window\n",
    "\n",
    "def entropy(counts):\n",
    "    values = [c for c in counts if c > 0]\n",
    "    n = sum(values)\n",
    "    p = [v / n for v in values]\n",
    "    return sum([-1 * (p_v) * log(p_v) for p_v in p])\n",
    "\n",
    "cluster_label = pipeline_model.transform(data).select(\"cluster\", \"label\")\n",
    "df = cluster_label.groupBy(\"cluster\", \"label\").count().orderBy(\"cluster\")\n",
    "w = Window.partitionBy(\"cluster\")\n",
    "p_col = df['count'] / F.sum(df['count']).over(w)\n",
    "with_p_col = df.withColumn(\"p_col\", p_col)\n",
    "result = with_p_col.groupBy(\"cluster\").agg(\n",
    "    (-F.sum(F.col(\"p_col\") * F.log2(F.col(\"p_col\")))).alias(\"entropy\"),\n",
    "    F.sum(F.col(\"count\")).alias(\"cluster_size\")\n",
    ")\n",
    "result = result.withColumn('weightedClusterEntropy', F.col('entropy') * F.col('cluster_size'))\n",
    "weighted_cluster_entropy_avg = result.agg(F.sum(F.col('weightedClusterEntropy'))).collect()\n",
    "weighted_cluster_entropy_avg[0][0] / data.count()\n"
   ]
  },
  {
   "cell_type": "code",
   "execution_count": 44,
   "id": "f13e8e25",
   "metadata": {},
   "outputs": [],
   "source": [
    "from pyspark.ml.feature import VectorAssembler, StandardScaler\n",
    "from pyspark.ml.clustering import KMeans\n",
    "from pyspark.ml import Pipeline\n",
    "from pyspark.sql import functions as F\n",
    "from pyspark.sql import Window\n",
    "\n",
    "def fit_pipeline_4(data, k):\n",
    "    (proto_type_pipeline, proto_type_vec_col) = one_hot_pipeline(\"protocol_type\")\n",
    "    (service_pipeline, service_vec_col) = one_hot_pipeline(\"service\")\n",
    "    (flag_pipeline, flag_vec_col) = one_hot_pipeline(\"flag\")\n",
    "    \n",
    "    assemble_cols = set(data.columns) - {\"label\", \"protocol_type\", \"service\", \"flag\"} | {proto_type_vec_col, service_vec_col, flag_vec_col}\n",
    "    assembler = VectorAssembler(inputCols=list(assemble_cols), outputCol=\"featureVector\")\n",
    "    scaler = StandardScaler(inputCol=\"featureVector\", outputCol=\"scaledFeatureVector\", withStd=True, withMean=False)\n",
    "    kmeans = KMeans(seed=randint(100, 100000), k=k, predictionCol=\"cluster\", featuresCol=\"scaledFeatureVector\", maxIter=40, tol=1.0e-5)\n",
    "    \n",
    "    pipeline = Pipeline(stages=[proto_type_pipeline, service_pipeline, flag_pipeline, assembler, scaler, kmeans])\n",
    "    return pipeline.fit(data)\n",
    "\n",
    "def clustering_score_4(input_data, k):\n",
    "    pipeline_model = fit_pipeline_4(input_data, k)\n",
    "    cluster_label = pipeline_model.transform(input_data).select(\"cluster\", \"label\")\n",
    "    df = cluster_label.groupBy(\"cluster\", \"label\").count().orderBy(\"cluster\")\n",
    "    w = Window.partitionBy(\"cluster\")\n",
    "    p_col = df['count'] / F.sum(df['count']).over(w)\n",
    "    with_p_col = df.withColumn(\"p_col\", p_col)\n",
    "    result = with_p_col.groupBy(\"cluster\").agg(-F.sum(F.col(\"p_col\") * F.log2(F.col(\"p_col\"))).alias(\"entropy\"), F.sum(F.col(\"count\")).alias(\"cluster_size\"))\n",
    "    result = result.withColumn('weightedClusterEntropy', F.col('entropy') * F.col('cluster_size'))\n",
    "    weighted_cluster_entropy_avg = result.agg(F.sum(F.col('weightedClusterEntropy'))).collect()\n",
    "    return weighted_cluster_entropy_avg[0][0] / input_data.count()\n"
   ]
  },
  {
   "cell_type": "code",
   "execution_count": 45,
   "id": "712fd966",
   "metadata": {},
   "outputs": [
    {
     "name": "stdout",
     "output_type": "stream",
     "text": [
      "+-------+----------+------+\n",
      "|cluster|     label| count|\n",
      "+-------+----------+------+\n",
      "|      0|  neptune.| 45462|\n",
      "|      1|  ipsweep.|     4|\n",
      "|      1|     nmap.|     1|\n",
      "|      1|   normal.|   337|\n",
      "|      1|portsweep.|     1|\n",
      "|      1|    smurf.|280787|\n",
      "|      2|  neptune.|    99|\n",
      "|      3|  neptune.|    96|\n",
      "|      3|     nmap.|     1|\n",
      "|      4|  neptune.|     4|\n",
      "|      4|   normal.|  4071|\n",
      "|      5|  ipsweep.|     2|\n",
      "|      5|  neptune.|   105|\n",
      "|      6|  ipsweep.|     1|\n",
      "|      6|  neptune.|   161|\n",
      "|      6|   normal.|   464|\n",
      "|      6|    satan.|     3|\n",
      "|      7|  neptune.|    91|\n",
      "|      7|portsweep.|     1|\n",
      "|      8|   normal.|   866|\n",
      "+-------+----------+------+\n",
      "only showing top 20 rows\n",
      "\n"
     ]
    }
   ],
   "source": [
    "pipeline_model = fit_pipeline_4(data, 180)\n",
    "count_by_cluster_label = pipeline_model.transform(data).select(\"cluster\", \"label\").groupBy(\"cluster\", \"label\").count().orderBy(\"cluster\", \"label\")\n",
    "count_by_cluster_label.show()\n"
   ]
  },
  {
   "cell_type": "code",
   "execution_count": null,
   "id": "4731ba10",
   "metadata": {},
   "outputs": [],
   "source": []
  },
  {
   "cell_type": "code",
   "execution_count": null,
   "id": "69adf5bc",
   "metadata": {},
   "outputs": [],
   "source": []
  },
  {
   "cell_type": "code",
   "execution_count": null,
   "id": "1ec3debd",
   "metadata": {},
   "outputs": [],
   "source": []
  },
  {
   "cell_type": "code",
   "execution_count": null,
   "id": "89db9d92",
   "metadata": {},
   "outputs": [],
   "source": []
  },
  {
   "cell_type": "code",
   "execution_count": null,
   "id": "0a006ec6",
   "metadata": {},
   "outputs": [],
   "source": []
  },
  {
   "cell_type": "code",
   "execution_count": null,
   "id": "6e1f4464",
   "metadata": {},
   "outputs": [],
   "source": []
  },
  {
   "cell_type": "code",
   "execution_count": null,
   "id": "a0f40743",
   "metadata": {},
   "outputs": [],
   "source": []
  },
  {
   "cell_type": "code",
   "execution_count": null,
   "id": "cf4a30d0",
   "metadata": {},
   "outputs": [],
   "source": []
  },
  {
   "cell_type": "code",
   "execution_count": null,
   "id": "d6535098",
   "metadata": {},
   "outputs": [],
   "source": []
  },
  {
   "cell_type": "code",
   "execution_count": null,
   "id": "0f7b512f",
   "metadata": {},
   "outputs": [],
   "source": []
  },
  {
   "cell_type": "code",
   "execution_count": null,
   "id": "1228a668",
   "metadata": {},
   "outputs": [],
   "source": []
  },
  {
   "cell_type": "code",
   "execution_count": null,
   "id": "391314c6",
   "metadata": {},
   "outputs": [],
   "source": []
  },
  {
   "cell_type": "code",
   "execution_count": null,
   "id": "752902d7",
   "metadata": {},
   "outputs": [],
   "source": []
  },
  {
   "cell_type": "code",
   "execution_count": null,
   "id": "35bdcc8b",
   "metadata": {},
   "outputs": [],
   "source": []
  },
  {
   "cell_type": "code",
   "execution_count": null,
   "id": "78461063",
   "metadata": {},
   "outputs": [],
   "source": []
  },
  {
   "cell_type": "code",
   "execution_count": null,
   "id": "78b61c76",
   "metadata": {},
   "outputs": [],
   "source": []
  },
  {
   "cell_type": "code",
   "execution_count": null,
   "id": "83e58fe5",
   "metadata": {},
   "outputs": [],
   "source": []
  },
  {
   "cell_type": "code",
   "execution_count": null,
   "id": "0cec0eda",
   "metadata": {},
   "outputs": [],
   "source": []
  },
  {
   "cell_type": "code",
   "execution_count": null,
   "id": "5a0d6c53",
   "metadata": {},
   "outputs": [],
   "source": []
  },
  {
   "cell_type": "code",
   "execution_count": null,
   "id": "72646cab",
   "metadata": {},
   "outputs": [],
   "source": []
  },
  {
   "cell_type": "code",
   "execution_count": null,
   "id": "df34b788",
   "metadata": {},
   "outputs": [],
   "source": []
  },
  {
   "cell_type": "code",
   "execution_count": null,
   "id": "8e0dc878",
   "metadata": {},
   "outputs": [],
   "source": []
  },
  {
   "cell_type": "code",
   "execution_count": null,
   "id": "c4ab1e25",
   "metadata": {},
   "outputs": [],
   "source": []
  },
  {
   "cell_type": "code",
   "execution_count": null,
   "id": "e906aa80",
   "metadata": {},
   "outputs": [],
   "source": []
  },
  {
   "cell_type": "code",
   "execution_count": null,
   "id": "da187e2a",
   "metadata": {},
   "outputs": [],
   "source": []
  },
  {
   "cell_type": "code",
   "execution_count": null,
   "id": "88b2ddb1",
   "metadata": {},
   "outputs": [],
   "source": []
  },
  {
   "cell_type": "code",
   "execution_count": null,
   "id": "888ef0d7",
   "metadata": {},
   "outputs": [],
   "source": []
  },
  {
   "cell_type": "code",
   "execution_count": null,
   "id": "990580d0",
   "metadata": {},
   "outputs": [],
   "source": []
  },
  {
   "cell_type": "code",
   "execution_count": null,
   "id": "0bf6fbcb",
   "metadata": {},
   "outputs": [],
   "source": []
  },
  {
   "cell_type": "code",
   "execution_count": null,
   "id": "9e77362c",
   "metadata": {},
   "outputs": [],
   "source": []
  },
  {
   "cell_type": "code",
   "execution_count": null,
   "id": "72873354",
   "metadata": {},
   "outputs": [],
   "source": []
  },
  {
   "cell_type": "code",
   "execution_count": null,
   "id": "0e314dd4",
   "metadata": {},
   "outputs": [],
   "source": []
  },
  {
   "cell_type": "code",
   "execution_count": null,
   "id": "ae37f613",
   "metadata": {},
   "outputs": [],
   "source": []
  },
  {
   "cell_type": "code",
   "execution_count": null,
   "id": "2726af92",
   "metadata": {},
   "outputs": [],
   "source": []
  },
  {
   "cell_type": "code",
   "execution_count": null,
   "id": "fad2f9d5",
   "metadata": {},
   "outputs": [],
   "source": []
  },
  {
   "cell_type": "code",
   "execution_count": null,
   "id": "91490cb6",
   "metadata": {},
   "outputs": [],
   "source": []
  },
  {
   "cell_type": "code",
   "execution_count": null,
   "id": "8ec8054f",
   "metadata": {},
   "outputs": [],
   "source": []
  },
  {
   "cell_type": "code",
   "execution_count": null,
   "id": "2c08cb42",
   "metadata": {},
   "outputs": [],
   "source": []
  },
  {
   "cell_type": "code",
   "execution_count": null,
   "id": "6a63866e",
   "metadata": {},
   "outputs": [],
   "source": []
  },
  {
   "cell_type": "code",
   "execution_count": null,
   "id": "1784b718",
   "metadata": {},
   "outputs": [],
   "source": []
  },
  {
   "cell_type": "code",
   "execution_count": null,
   "id": "55f8613d",
   "metadata": {},
   "outputs": [],
   "source": []
  },
  {
   "cell_type": "code",
   "execution_count": null,
   "id": "6062d127",
   "metadata": {},
   "outputs": [],
   "source": []
  },
  {
   "cell_type": "code",
   "execution_count": null,
   "id": "04b2080d",
   "metadata": {},
   "outputs": [],
   "source": []
  },
  {
   "cell_type": "code",
   "execution_count": null,
   "id": "432b9cfc",
   "metadata": {},
   "outputs": [],
   "source": []
  },
  {
   "cell_type": "code",
   "execution_count": null,
   "id": "313870a5",
   "metadata": {},
   "outputs": [],
   "source": []
  },
  {
   "cell_type": "code",
   "execution_count": null,
   "id": "f56d50ea",
   "metadata": {},
   "outputs": [],
   "source": []
  },
  {
   "cell_type": "code",
   "execution_count": null,
   "id": "5316e555",
   "metadata": {},
   "outputs": [],
   "source": []
  },
  {
   "cell_type": "code",
   "execution_count": null,
   "id": "d98ef929",
   "metadata": {},
   "outputs": [],
   "source": []
  },
  {
   "cell_type": "code",
   "execution_count": null,
   "id": "cdee182e",
   "metadata": {},
   "outputs": [],
   "source": []
  },
  {
   "cell_type": "code",
   "execution_count": null,
   "id": "6cbd4523",
   "metadata": {},
   "outputs": [],
   "source": []
  },
  {
   "cell_type": "code",
   "execution_count": null,
   "id": "c455ff77",
   "metadata": {},
   "outputs": [],
   "source": []
  },
  {
   "cell_type": "code",
   "execution_count": null,
   "id": "9b54688d",
   "metadata": {},
   "outputs": [],
   "source": []
  },
  {
   "cell_type": "code",
   "execution_count": null,
   "id": "71468d73",
   "metadata": {},
   "outputs": [],
   "source": []
  },
  {
   "cell_type": "code",
   "execution_count": null,
   "id": "cfe4fc96",
   "metadata": {},
   "outputs": [],
   "source": []
  },
  {
   "cell_type": "code",
   "execution_count": null,
   "id": "026f46e3",
   "metadata": {},
   "outputs": [],
   "source": []
  },
  {
   "cell_type": "code",
   "execution_count": null,
   "id": "36c395a5",
   "metadata": {},
   "outputs": [],
   "source": []
  },
  {
   "cell_type": "code",
   "execution_count": null,
   "id": "c5cbab40",
   "metadata": {},
   "outputs": [],
   "source": []
  },
  {
   "cell_type": "code",
   "execution_count": null,
   "id": "c973fe23",
   "metadata": {},
   "outputs": [],
   "source": []
  },
  {
   "cell_type": "code",
   "execution_count": null,
   "id": "3647c17b",
   "metadata": {},
   "outputs": [],
   "source": []
  },
  {
   "cell_type": "code",
   "execution_count": null,
   "id": "8584a0a4",
   "metadata": {},
   "outputs": [],
   "source": []
  },
  {
   "cell_type": "code",
   "execution_count": null,
   "id": "e1cb8e5b",
   "metadata": {},
   "outputs": [],
   "source": []
  },
  {
   "cell_type": "code",
   "execution_count": null,
   "id": "3a09b713",
   "metadata": {},
   "outputs": [],
   "source": []
  },
  {
   "cell_type": "code",
   "execution_count": null,
   "id": "0731f575",
   "metadata": {},
   "outputs": [],
   "source": []
  },
  {
   "cell_type": "code",
   "execution_count": null,
   "id": "1d177c7a",
   "metadata": {},
   "outputs": [],
   "source": []
  },
  {
   "cell_type": "code",
   "execution_count": null,
   "id": "96d127fa",
   "metadata": {},
   "outputs": [],
   "source": []
  },
  {
   "cell_type": "code",
   "execution_count": null,
   "id": "8f5d2db3",
   "metadata": {},
   "outputs": [],
   "source": []
  },
  {
   "cell_type": "code",
   "execution_count": null,
   "id": "54f18d29",
   "metadata": {},
   "outputs": [],
   "source": []
  },
  {
   "cell_type": "code",
   "execution_count": null,
   "id": "1569f2ac",
   "metadata": {},
   "outputs": [],
   "source": []
  },
  {
   "cell_type": "code",
   "execution_count": null,
   "id": "d4712ddc",
   "metadata": {},
   "outputs": [],
   "source": []
  },
  {
   "cell_type": "code",
   "execution_count": null,
   "id": "fb1bd2f6",
   "metadata": {},
   "outputs": [],
   "source": []
  },
  {
   "cell_type": "code",
   "execution_count": null,
   "id": "7fa87b63",
   "metadata": {},
   "outputs": [],
   "source": []
  },
  {
   "cell_type": "code",
   "execution_count": null,
   "id": "40553877",
   "metadata": {},
   "outputs": [],
   "source": []
  },
  {
   "cell_type": "code",
   "execution_count": null,
   "id": "13aa5010",
   "metadata": {},
   "outputs": [],
   "source": []
  },
  {
   "cell_type": "code",
   "execution_count": null,
   "id": "f73841e6",
   "metadata": {},
   "outputs": [],
   "source": []
  },
  {
   "cell_type": "code",
   "execution_count": null,
   "id": "2aeb5678",
   "metadata": {},
   "outputs": [],
   "source": []
  },
  {
   "cell_type": "code",
   "execution_count": null,
   "id": "99b2a85d",
   "metadata": {},
   "outputs": [],
   "source": []
  },
  {
   "cell_type": "code",
   "execution_count": null,
   "id": "0f7ff34b",
   "metadata": {},
   "outputs": [],
   "source": []
  },
  {
   "cell_type": "code",
   "execution_count": null,
   "id": "5733fc8f",
   "metadata": {},
   "outputs": [],
   "source": []
  },
  {
   "cell_type": "code",
   "execution_count": null,
   "id": "fc15e9cf",
   "metadata": {},
   "outputs": [],
   "source": []
  },
  {
   "cell_type": "code",
   "execution_count": null,
   "id": "64e18c76",
   "metadata": {},
   "outputs": [],
   "source": []
  },
  {
   "cell_type": "code",
   "execution_count": null,
   "id": "2badd6e5",
   "metadata": {},
   "outputs": [],
   "source": []
  },
  {
   "cell_type": "code",
   "execution_count": null,
   "id": "75c7b81d",
   "metadata": {},
   "outputs": [],
   "source": []
  }
 ],
 "metadata": {
  "kernelspec": {
   "display_name": "Python 3 (ipykernel)",
   "language": "python",
   "name": "python3"
  },
  "language_info": {
   "codemirror_mode": {
    "name": "ipython",
    "version": 3
   },
   "file_extension": ".py",
   "mimetype": "text/x-python",
   "name": "python",
   "nbconvert_exporter": "python",
   "pygments_lexer": "ipython3",
   "version": "3.9.12"
  }
 },
 "nbformat": 4,
 "nbformat_minor": 5
}
