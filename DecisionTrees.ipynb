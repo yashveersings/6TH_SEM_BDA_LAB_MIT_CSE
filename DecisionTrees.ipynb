{
 "cells": [
  {
   "cell_type": "code",
   "execution_count": 1,
   "id": "c28e2c20",
   "metadata": {},
   "outputs": [],
   "source": [
    "import pyspark\n",
    "import os\n",
    "import sys\n",
    "from pyspark.sql import SparkSession\n",
    "from pyspark.sql.types import DoubleType\n",
    "from pyspark.sql.functions import col"
   ]
  },
  {
   "cell_type": "code",
   "execution_count": 2,
   "id": "43c2bb3b",
   "metadata": {},
   "outputs": [],
   "source": [
    "os.environ['PYSPARK_PYTHON']=sys.executable\n",
    "os.environ['PYSPARK_DRIVER_PYTHON']=sys.executable\n",
    "spark=SparkSession.builder.getOrCreate()"
   ]
  },
  {
   "cell_type": "code",
   "execution_count": 3,
   "id": "4a332453",
   "metadata": {},
   "outputs": [],
   "source": [
    "path=r\"C:\\Users\\LENOVO\\Desktop\\SUB 6TH SEM\\BDA\\LAB\\LAB6\\covertype.csv\"\n",
    "data_without_header=spark.read.csv(path,inferSchema=True,header=False)\n",
    "colnames = [\"Elevation\", \"Aspect\", \"Slope\",\"Horizontal_Distance_To_Hydrology\",\"Vertical_Distance_To_Hydrology\", \"Horizontal_Distance_To_Roadways\",\"Hillshade_9am\", \"Hillshade_Noon\", \"Hillshade_3pm\",\"Horizontal_Distance_To_Fire_Points\"] +[f\"Wilderness_Area_{i}\" for i in range(4)] +[f\"Soil_Type_{i}\" for i in range(40)] +[\"Cover_Type\"]\n",
    "data=data_without_header.toDF(*colnames).withColumn(\"label\",col(\"Cover_Type\").cast(DoubleType()))"
   ]
  },
  {
   "cell_type": "code",
   "execution_count": 4,
   "id": "a17b3ca1",
   "metadata": {},
   "outputs": [
    {
     "data": {
      "text/plain": [
       "Row(Elevation=0, Aspect=1, Slope=2, Horizontal_Distance_To_Hydrology=3, Vertical_Distance_To_Hydrology=4, Horizontal_Distance_To_Roadways=5, Hillshade_9am=6, Hillshade_Noon=7, Hillshade_3pm=8, Horizontal_Distance_To_Fire_Points=9, Wilderness_Area_0=10, Wilderness_Area_1=11, Wilderness_Area_2=12, Wilderness_Area_3=13, Soil_Type_0=14, Soil_Type_1=15, Soil_Type_2=16, Soil_Type_3=17, Soil_Type_4=18, Soil_Type_5=19, Soil_Type_6=20, Soil_Type_7=21, Soil_Type_8=22, Soil_Type_9=23, Soil_Type_10=24, Soil_Type_11=25, Soil_Type_12=26, Soil_Type_13=27, Soil_Type_14=28, Soil_Type_15=29, Soil_Type_16=30, Soil_Type_17=31, Soil_Type_18=32, Soil_Type_19=33, Soil_Type_20=34, Soil_Type_21=35, Soil_Type_22=36, Soil_Type_23=37, Soil_Type_24=38, Soil_Type_25=39, Soil_Type_26=40, Soil_Type_27=41, Soil_Type_28=42, Soil_Type_29=43, Soil_Type_30=44, Soil_Type_31=45, Soil_Type_32=46, Soil_Type_33=47, Soil_Type_34=48, Soil_Type_35=49, Soil_Type_36=50, Soil_Type_37=51, Soil_Type_38=52, Soil_Type_39=53, Cover_Type=54, label=54.0)"
      ]
     },
     "execution_count": 4,
     "metadata": {},
     "output_type": "execute_result"
    }
   ],
   "source": [
    "data.head()"
   ]
  },
  {
   "cell_type": "code",
   "execution_count": 5,
   "id": "b1d1b2bb",
   "metadata": {},
   "outputs": [],
   "source": [
    "(train,test)=data.randomSplit([0.8,0.1])"
   ]
  },
  {
   "cell_type": "code",
   "execution_count": 6,
   "id": "545a9c39",
   "metadata": {},
   "outputs": [
    {
     "name": "stderr",
     "output_type": "stream",
     "text": [
      "C:\\Users\\LENOVO\\anaconda3\\lib\\site-packages\\scipy\\__init__.py:146: UserWarning: A NumPy version >=1.16.5 and <1.23.0 is required for this version of SciPy (detected version 1.26.4\n",
      "  warnings.warn(f\"A NumPy version >={np_minversion} and <{np_maxversion}\"\n"
     ]
    },
    {
     "name": "stdout",
     "output_type": "stream",
     "text": [
      "DecisionTreeClassificationModel: uid=DecisionTreeClassifier_898436c72629, depth=5, numNodes=13, numClasses=55, numFeatures=55\n",
      "  If (feature 54 <= 1.5)\n",
      "   Predict: 1.0\n",
      "  Else (feature 54 > 1.5)\n",
      "   If (feature 54 <= 2.5)\n",
      "    Predict: 2.0\n",
      "   Else (feature 54 > 2.5)\n",
      "    If (feature 54 <= 3.5)\n",
      "     Predict: 3.0\n",
      "    Else (feature 54 > 3.5)\n",
      "     If (feature 54 <= 6.5)\n",
      "      If (feature 54 <= 5.5)\n",
      "       Predict: 5.0\n",
      "      Else (feature 54 > 5.5)\n",
      "       Predict: 6.0\n",
      "     Else (feature 54 > 6.5)\n",
      "      If (feature 0 <= 2252.5)\n",
      "       Predict: 54.0\n",
      "      Else (feature 0 > 2252.5)\n",
      "       Predict: 7.0\n",
      "\n"
     ]
    }
   ],
   "source": [
    "from pyspark.ml.feature import VectorAssembler\n",
    "from pyspark.ml.classification import DecisionTreeClassifier\n",
    "from pyspark.ml import Pipeline\n",
    "\n",
    "assembler=VectorAssembler().setInputCols(train.columns[:-1]).setOutputCol('featureVector')\n",
    "classifier=DecisionTreeClassifier().setFeaturesCol('featureVector').setPredictionCol('prediction')\n",
    "pipeline=Pipeline().setStages([assembler,classifier])\n",
    "model=pipeline.fit(train)\n",
    "tree=model.stages[1]\n",
    "print(tree.toDebugString)"
   ]
  },
  {
   "cell_type": "code",
   "execution_count": 7,
   "id": "c6ac9a82",
   "metadata": {},
   "outputs": [
    {
     "data": {
      "text/html": [
       "<div>\n",
       "<style scoped>\n",
       "    .dataframe tbody tr th:only-of-type {\n",
       "        vertical-align: middle;\n",
       "    }\n",
       "\n",
       "    .dataframe tbody tr th {\n",
       "        vertical-align: top;\n",
       "    }\n",
       "\n",
       "    .dataframe thead th {\n",
       "        text-align: right;\n",
       "    }\n",
       "</style>\n",
       "<table border=\"1\" class=\"dataframe\">\n",
       "  <thead>\n",
       "    <tr style=\"text-align: right;\">\n",
       "      <th></th>\n",
       "      <th>Importance</th>\n",
       "    </tr>\n",
       "  </thead>\n",
       "  <tbody>\n",
       "    <tr>\n",
       "      <th>Cover_Type</th>\n",
       "      <td>0.999994</td>\n",
       "    </tr>\n",
       "    <tr>\n",
       "      <th>Elevation</th>\n",
       "      <td>0.000006</td>\n",
       "    </tr>\n",
       "    <tr>\n",
       "      <th>Slope</th>\n",
       "      <td>0.000000</td>\n",
       "    </tr>\n",
       "    <tr>\n",
       "      <th>Soil_Type_15</th>\n",
       "      <td>0.000000</td>\n",
       "    </tr>\n",
       "    <tr>\n",
       "      <th>Soil_Type_17</th>\n",
       "      <td>0.000000</td>\n",
       "    </tr>\n",
       "    <tr>\n",
       "      <th>Soil_Type_18</th>\n",
       "      <td>0.000000</td>\n",
       "    </tr>\n",
       "    <tr>\n",
       "      <th>Soil_Type_19</th>\n",
       "      <td>0.000000</td>\n",
       "    </tr>\n",
       "    <tr>\n",
       "      <th>Soil_Type_20</th>\n",
       "      <td>0.000000</td>\n",
       "    </tr>\n",
       "    <tr>\n",
       "      <th>Soil_Type_21</th>\n",
       "      <td>0.000000</td>\n",
       "    </tr>\n",
       "    <tr>\n",
       "      <th>Soil_Type_22</th>\n",
       "      <td>0.000000</td>\n",
       "    </tr>\n",
       "    <tr>\n",
       "      <th>Soil_Type_23</th>\n",
       "      <td>0.000000</td>\n",
       "    </tr>\n",
       "    <tr>\n",
       "      <th>Soil_Type_24</th>\n",
       "      <td>0.000000</td>\n",
       "    </tr>\n",
       "    <tr>\n",
       "      <th>Soil_Type_25</th>\n",
       "      <td>0.000000</td>\n",
       "    </tr>\n",
       "    <tr>\n",
       "      <th>Soil_Type_26</th>\n",
       "      <td>0.000000</td>\n",
       "    </tr>\n",
       "    <tr>\n",
       "      <th>Soil_Type_27</th>\n",
       "      <td>0.000000</td>\n",
       "    </tr>\n",
       "    <tr>\n",
       "      <th>Soil_Type_28</th>\n",
       "      <td>0.000000</td>\n",
       "    </tr>\n",
       "    <tr>\n",
       "      <th>Soil_Type_29</th>\n",
       "      <td>0.000000</td>\n",
       "    </tr>\n",
       "    <tr>\n",
       "      <th>Soil_Type_30</th>\n",
       "      <td>0.000000</td>\n",
       "    </tr>\n",
       "    <tr>\n",
       "      <th>Soil_Type_31</th>\n",
       "      <td>0.000000</td>\n",
       "    </tr>\n",
       "    <tr>\n",
       "      <th>Soil_Type_32</th>\n",
       "      <td>0.000000</td>\n",
       "    </tr>\n",
       "    <tr>\n",
       "      <th>Soil_Type_33</th>\n",
       "      <td>0.000000</td>\n",
       "    </tr>\n",
       "    <tr>\n",
       "      <th>Soil_Type_34</th>\n",
       "      <td>0.000000</td>\n",
       "    </tr>\n",
       "    <tr>\n",
       "      <th>Soil_Type_35</th>\n",
       "      <td>0.000000</td>\n",
       "    </tr>\n",
       "    <tr>\n",
       "      <th>Soil_Type_36</th>\n",
       "      <td>0.000000</td>\n",
       "    </tr>\n",
       "    <tr>\n",
       "      <th>Soil_Type_37</th>\n",
       "      <td>0.000000</td>\n",
       "    </tr>\n",
       "    <tr>\n",
       "      <th>Soil_Type_38</th>\n",
       "      <td>0.000000</td>\n",
       "    </tr>\n",
       "    <tr>\n",
       "      <th>Soil_Type_39</th>\n",
       "      <td>0.000000</td>\n",
       "    </tr>\n",
       "    <tr>\n",
       "      <th>Soil_Type_16</th>\n",
       "      <td>0.000000</td>\n",
       "    </tr>\n",
       "    <tr>\n",
       "      <th>Soil_Type_14</th>\n",
       "      <td>0.000000</td>\n",
       "    </tr>\n",
       "    <tr>\n",
       "      <th>Horizontal_Distance_To_Hydrology</th>\n",
       "      <td>0.000000</td>\n",
       "    </tr>\n",
       "    <tr>\n",
       "      <th>Aspect</th>\n",
       "      <td>0.000000</td>\n",
       "    </tr>\n",
       "    <tr>\n",
       "      <th>Vertical_Distance_To_Hydrology</th>\n",
       "      <td>0.000000</td>\n",
       "    </tr>\n",
       "    <tr>\n",
       "      <th>Horizontal_Distance_To_Roadways</th>\n",
       "      <td>0.000000</td>\n",
       "    </tr>\n",
       "    <tr>\n",
       "      <th>Hillshade_9am</th>\n",
       "      <td>0.000000</td>\n",
       "    </tr>\n",
       "    <tr>\n",
       "      <th>Hillshade_Noon</th>\n",
       "      <td>0.000000</td>\n",
       "    </tr>\n",
       "    <tr>\n",
       "      <th>Hillshade_3pm</th>\n",
       "      <td>0.000000</td>\n",
       "    </tr>\n",
       "    <tr>\n",
       "      <th>Horizontal_Distance_To_Fire_Points</th>\n",
       "      <td>0.000000</td>\n",
       "    </tr>\n",
       "    <tr>\n",
       "      <th>Wilderness_Area_0</th>\n",
       "      <td>0.000000</td>\n",
       "    </tr>\n",
       "    <tr>\n",
       "      <th>Wilderness_Area_1</th>\n",
       "      <td>0.000000</td>\n",
       "    </tr>\n",
       "    <tr>\n",
       "      <th>Wilderness_Area_2</th>\n",
       "      <td>0.000000</td>\n",
       "    </tr>\n",
       "    <tr>\n",
       "      <th>Wilderness_Area_3</th>\n",
       "      <td>0.000000</td>\n",
       "    </tr>\n",
       "    <tr>\n",
       "      <th>Soil_Type_0</th>\n",
       "      <td>0.000000</td>\n",
       "    </tr>\n",
       "    <tr>\n",
       "      <th>Soil_Type_1</th>\n",
       "      <td>0.000000</td>\n",
       "    </tr>\n",
       "    <tr>\n",
       "      <th>Soil_Type_2</th>\n",
       "      <td>0.000000</td>\n",
       "    </tr>\n",
       "    <tr>\n",
       "      <th>Soil_Type_3</th>\n",
       "      <td>0.000000</td>\n",
       "    </tr>\n",
       "    <tr>\n",
       "      <th>Soil_Type_4</th>\n",
       "      <td>0.000000</td>\n",
       "    </tr>\n",
       "    <tr>\n",
       "      <th>Soil_Type_5</th>\n",
       "      <td>0.000000</td>\n",
       "    </tr>\n",
       "    <tr>\n",
       "      <th>Soil_Type_6</th>\n",
       "      <td>0.000000</td>\n",
       "    </tr>\n",
       "    <tr>\n",
       "      <th>Soil_Type_7</th>\n",
       "      <td>0.000000</td>\n",
       "    </tr>\n",
       "    <tr>\n",
       "      <th>Soil_Type_8</th>\n",
       "      <td>0.000000</td>\n",
       "    </tr>\n",
       "    <tr>\n",
       "      <th>Soil_Type_9</th>\n",
       "      <td>0.000000</td>\n",
       "    </tr>\n",
       "    <tr>\n",
       "      <th>Soil_Type_10</th>\n",
       "      <td>0.000000</td>\n",
       "    </tr>\n",
       "    <tr>\n",
       "      <th>Soil_Type_11</th>\n",
       "      <td>0.000000</td>\n",
       "    </tr>\n",
       "    <tr>\n",
       "      <th>Soil_Type_12</th>\n",
       "      <td>0.000000</td>\n",
       "    </tr>\n",
       "    <tr>\n",
       "      <th>Soil_Type_13</th>\n",
       "      <td>0.000000</td>\n",
       "    </tr>\n",
       "  </tbody>\n",
       "</table>\n",
       "</div>"
      ],
      "text/plain": [
       "                                    Importance\n",
       "Cover_Type                            0.999994\n",
       "Elevation                             0.000006\n",
       "Slope                                 0.000000\n",
       "Soil_Type_15                          0.000000\n",
       "Soil_Type_17                          0.000000\n",
       "Soil_Type_18                          0.000000\n",
       "Soil_Type_19                          0.000000\n",
       "Soil_Type_20                          0.000000\n",
       "Soil_Type_21                          0.000000\n",
       "Soil_Type_22                          0.000000\n",
       "Soil_Type_23                          0.000000\n",
       "Soil_Type_24                          0.000000\n",
       "Soil_Type_25                          0.000000\n",
       "Soil_Type_26                          0.000000\n",
       "Soil_Type_27                          0.000000\n",
       "Soil_Type_28                          0.000000\n",
       "Soil_Type_29                          0.000000\n",
       "Soil_Type_30                          0.000000\n",
       "Soil_Type_31                          0.000000\n",
       "Soil_Type_32                          0.000000\n",
       "Soil_Type_33                          0.000000\n",
       "Soil_Type_34                          0.000000\n",
       "Soil_Type_35                          0.000000\n",
       "Soil_Type_36                          0.000000\n",
       "Soil_Type_37                          0.000000\n",
       "Soil_Type_38                          0.000000\n",
       "Soil_Type_39                          0.000000\n",
       "Soil_Type_16                          0.000000\n",
       "Soil_Type_14                          0.000000\n",
       "Horizontal_Distance_To_Hydrology      0.000000\n",
       "Aspect                                0.000000\n",
       "Vertical_Distance_To_Hydrology        0.000000\n",
       "Horizontal_Distance_To_Roadways       0.000000\n",
       "Hillshade_9am                         0.000000\n",
       "Hillshade_Noon                        0.000000\n",
       "Hillshade_3pm                         0.000000\n",
       "Horizontal_Distance_To_Fire_Points    0.000000\n",
       "Wilderness_Area_0                     0.000000\n",
       "Wilderness_Area_1                     0.000000\n",
       "Wilderness_Area_2                     0.000000\n",
       "Wilderness_Area_3                     0.000000\n",
       "Soil_Type_0                           0.000000\n",
       "Soil_Type_1                           0.000000\n",
       "Soil_Type_2                           0.000000\n",
       "Soil_Type_3                           0.000000\n",
       "Soil_Type_4                           0.000000\n",
       "Soil_Type_5                           0.000000\n",
       "Soil_Type_6                           0.000000\n",
       "Soil_Type_7                           0.000000\n",
       "Soil_Type_8                           0.000000\n",
       "Soil_Type_9                           0.000000\n",
       "Soil_Type_10                          0.000000\n",
       "Soil_Type_11                          0.000000\n",
       "Soil_Type_12                          0.000000\n",
       "Soil_Type_13                          0.000000"
      ]
     },
     "execution_count": 7,
     "metadata": {},
     "output_type": "execute_result"
    }
   ],
   "source": [
    "import pandas as pd\n",
    "df=pd.DataFrame(tree.featureImportances.toArray(),columns=['Importance'],index=colnames).sort_values(by=['Importance'],ascending=False)\n",
    "df"
   ]
  },
  {
   "cell_type": "code",
   "execution_count": 8,
   "id": "b6b7597a",
   "metadata": {},
   "outputs": [
    {
     "name": "stdout",
     "output_type": "stream",
     "text": [
      "root\n",
      " |-- Elevation: integer (nullable = true)\n",
      " |-- Aspect: integer (nullable = true)\n",
      " |-- Slope: integer (nullable = true)\n",
      " |-- Horizontal_Distance_To_Hydrology: integer (nullable = true)\n",
      " |-- Vertical_Distance_To_Hydrology: integer (nullable = true)\n",
      " |-- Horizontal_Distance_To_Roadways: integer (nullable = true)\n",
      " |-- Hillshade_9am: integer (nullable = true)\n",
      " |-- Hillshade_Noon: integer (nullable = true)\n",
      " |-- Hillshade_3pm: integer (nullable = true)\n",
      " |-- Horizontal_Distance_To_Fire_Points: integer (nullable = true)\n",
      " |-- Wilderness_Area_0: integer (nullable = true)\n",
      " |-- Wilderness_Area_1: integer (nullable = true)\n",
      " |-- Wilderness_Area_2: integer (nullable = true)\n",
      " |-- Wilderness_Area_3: integer (nullable = true)\n",
      " |-- Soil_Type_0: integer (nullable = true)\n",
      " |-- Soil_Type_1: integer (nullable = true)\n",
      " |-- Soil_Type_2: integer (nullable = true)\n",
      " |-- Soil_Type_3: integer (nullable = true)\n",
      " |-- Soil_Type_4: integer (nullable = true)\n",
      " |-- Soil_Type_5: integer (nullable = true)\n",
      " |-- Soil_Type_6: integer (nullable = true)\n",
      " |-- Soil_Type_7: integer (nullable = true)\n",
      " |-- Soil_Type_8: integer (nullable = true)\n",
      " |-- Soil_Type_9: integer (nullable = true)\n",
      " |-- Soil_Type_10: integer (nullable = true)\n",
      " |-- Soil_Type_11: integer (nullable = true)\n",
      " |-- Soil_Type_12: integer (nullable = true)\n",
      " |-- Soil_Type_13: integer (nullable = true)\n",
      " |-- Soil_Type_14: integer (nullable = true)\n",
      " |-- Soil_Type_15: integer (nullable = true)\n",
      " |-- Soil_Type_16: integer (nullable = true)\n",
      " |-- Soil_Type_17: integer (nullable = true)\n",
      " |-- Soil_Type_18: integer (nullable = true)\n",
      " |-- Soil_Type_19: integer (nullable = true)\n",
      " |-- Soil_Type_20: integer (nullable = true)\n",
      " |-- Soil_Type_21: integer (nullable = true)\n",
      " |-- Soil_Type_22: integer (nullable = true)\n",
      " |-- Soil_Type_23: integer (nullable = true)\n",
      " |-- Soil_Type_24: integer (nullable = true)\n",
      " |-- Soil_Type_25: integer (nullable = true)\n",
      " |-- Soil_Type_26: integer (nullable = true)\n",
      " |-- Soil_Type_27: integer (nullable = true)\n",
      " |-- Soil_Type_28: integer (nullable = true)\n",
      " |-- Soil_Type_29: integer (nullable = true)\n",
      " |-- Soil_Type_30: integer (nullable = true)\n",
      " |-- Soil_Type_31: integer (nullable = true)\n",
      " |-- Soil_Type_32: integer (nullable = true)\n",
      " |-- Soil_Type_33: integer (nullable = true)\n",
      " |-- Soil_Type_34: integer (nullable = true)\n",
      " |-- Soil_Type_35: integer (nullable = true)\n",
      " |-- Soil_Type_36: integer (nullable = true)\n",
      " |-- Soil_Type_37: integer (nullable = true)\n",
      " |-- Soil_Type_38: integer (nullable = true)\n",
      " |-- Soil_Type_39: integer (nullable = true)\n",
      " |-- Cover_Type: integer (nullable = true)\n",
      " |-- label: double (nullable = true)\n",
      " |-- featureVector: vector (nullable = true)\n",
      " |-- rawPrediction: vector (nullable = true)\n",
      " |-- probability: vector (nullable = true)\n",
      " |-- prediction: double (nullable = false)\n",
      "\n"
     ]
    }
   ],
   "source": [
    "prediction=model.transform(test)\n",
    "prediction.printSchema()"
   ]
  },
  {
   "cell_type": "code",
   "execution_count": 9,
   "id": "95ff3d68",
   "metadata": {},
   "outputs": [
    {
     "name": "stdout",
     "output_type": "stream",
     "text": [
      "+----------+--------------------+----------+\n",
      "|Cover_Type|         probability|prediction|\n",
      "+----------+--------------------+----------+\n",
      "|         3|[0.0,0.0,0.0,1.0,...|       3.0|\n",
      "|         6|[0.0,0.0,0.0,0.0,...|       6.0|\n",
      "|         6|[0.0,0.0,0.0,0.0,...|       6.0|\n",
      "|         3|[0.0,0.0,0.0,1.0,...|       3.0|\n",
      "|         3|[0.0,0.0,0.0,1.0,...|       3.0|\n",
      "|         6|[0.0,0.0,0.0,0.0,...|       6.0|\n",
      "|         3|[0.0,0.0,0.0,1.0,...|       3.0|\n",
      "|         3|[0.0,0.0,0.0,1.0,...|       3.0|\n",
      "|         4|[0.0,0.0,0.0,0.0,...|       5.0|\n",
      "|         3|[0.0,0.0,0.0,1.0,...|       3.0|\n",
      "|         6|[0.0,0.0,0.0,0.0,...|       6.0|\n",
      "|         6|[0.0,0.0,0.0,0.0,...|       6.0|\n",
      "|         3|[0.0,0.0,0.0,1.0,...|       3.0|\n",
      "|         4|[0.0,0.0,0.0,0.0,...|       5.0|\n",
      "|         3|[0.0,0.0,0.0,1.0,...|       3.0|\n",
      "|         4|[0.0,0.0,0.0,0.0,...|       5.0|\n",
      "|         3|[0.0,0.0,0.0,1.0,...|       3.0|\n",
      "|         3|[0.0,0.0,0.0,1.0,...|       3.0|\n",
      "|         3|[0.0,0.0,0.0,1.0,...|       3.0|\n",
      "|         3|[0.0,0.0,0.0,1.0,...|       3.0|\n",
      "+----------+--------------------+----------+\n",
      "only showing top 20 rows\n",
      "\n"
     ]
    }
   ],
   "source": [
    "prediction.select('Cover_Type','probability','prediction').show()"
   ]
  },
  {
   "cell_type": "code",
   "execution_count": 10,
   "id": "e9a5a27d",
   "metadata": {},
   "outputs": [
    {
     "name": "stdout",
     "output_type": "stream",
     "text": [
      "0.9952389785444877 0.993153398349374\n"
     ]
    }
   ],
   "source": [
    "from pyspark.ml.evaluation import MulticlassClassificationEvaluator\n",
    "\n",
    "accuracy=MulticlassClassificationEvaluator().setPredictionCol('prediction').setLabelCol('label').setMetricName('accuracy')\n",
    "f1=MulticlassClassificationEvaluator().setPredictionCol('prediction').setLabelCol('label').setMetricName('f1')\n",
    "acc=accuracy.evaluate(prediction)\n",
    "f1=f1.evaluate(prediction)\n",
    "print(acc,f1)"
   ]
  },
  {
   "cell_type": "code",
   "execution_count": 11,
   "id": "3726c131",
   "metadata": {},
   "outputs": [
    {
     "name": "stdout",
     "output_type": "stream",
     "text": [
      "+----------+-----+-----+----+---+----+----+----+\n",
      "|Cover_Type|    1|    2|   3|  4|   5|   6|   7|\n",
      "+----------+-----+-----+----+---+----+----+----+\n",
      "|         1|23809|    0|   0|  0|   0|   0|   0|\n",
      "|         2|    0|31108|   0|  0|   0|   0|   0|\n",
      "|         3|    0|    0|4060|  0|   0|   0|   0|\n",
      "|         4|    0|    0|   0|  0| 308|   0|   0|\n",
      "|         5|    0|    0|   0|  0|1089|   0|   0|\n",
      "|         6|    0|    0|   0|  0|   0|1959|   0|\n",
      "|         7|    0|    0|   0|  0|   0|   0|2359|\n",
      "+----------+-----+-----+----+---+----+----+----+\n",
      "\n"
     ]
    }
   ],
   "source": [
    "#Confusion Matrix\n",
    "\n",
    "conf_matrix=prediction.groupBy('Cover_Type').pivot('prediction',range(1,8)).count().na.fill(0.0).orderBy('Cover_Type')\n",
    "conf_matrix.show()"
   ]
  },
  {
   "cell_type": "code",
   "execution_count": 12,
   "id": "6d421d1d",
   "metadata": {},
   "outputs": [
    {
     "data": {
      "text/plain": [
       "[Row(count_proportion=0.36417461230513576),\n",
       " Row(count_proportion=0.48844226750413017),\n",
       " Row(count_proportion=0.061384293879195306),\n",
       " Row(count_proportion=0.004723805539577124),\n",
       " Row(count_proportion=0.016276696086349383),\n",
       " Row(count_proportion=0.029841900678066552),\n",
       " Row(count_proportion=0.03515448722790667),\n",
       " Row(count_proportion=1.9367796390230107e-06)]"
      ]
     },
     "execution_count": 12,
     "metadata": {},
     "output_type": "execute_result"
    }
   ],
   "source": [
    "from pyspark.sql import DataFrame\n",
    "from pyspark.sql.functions import col\n",
    "from pyspark.sql.types import DoubleType\n",
    "\n",
    "def class_probabilities(data):\n",
    "    total = data.count()\n",
    "    return (\n",
    "        data.groupBy(\"Cover_Type\")\n",
    "            .count()\n",
    "            .orderBy(\"Cover_Type\")\n",
    "            .select(col(\"count\").cast(DoubleType()))\n",
    "            .withColumn(\"count_proportion\", col(\"count\") / total)\n",
    "            .select(\"count_proportion\")\n",
    "            .collect()\n",
    "    )\n",
    "\n",
    "train_prior_probabilities = class_probabilities(train)\n",
    "test_prior_probabilities = class_probabilities(test)\n",
    "\n",
    "train_prior_probabilities\n"
   ]
  },
  {
   "cell_type": "code",
   "execution_count": 13,
   "id": "35ee54d8",
   "metadata": {},
   "outputs": [
    {
     "data": {
      "text/plain": [
       "0.37523782860298305"
      ]
     },
     "execution_count": 13,
     "metadata": {},
     "output_type": "execute_result"
    }
   ],
   "source": [
    "train_prior_probabilities = [p[0] for p in train_prior_probabilities]\n",
    "test_prior_probabilities = [p[0] for p in test_prior_probabilities]\n",
    "sum([train_p * cv_p for train_p, cv_p in zip(train_prior_probabilities,\n",
    "test_prior_probabilities)])"
   ]
  },
  {
   "cell_type": "code",
   "execution_count": 14,
   "id": "1fa6dd34",
   "metadata": {},
   "outputs": [],
   "source": [
    "#tuning\n",
    "\n",
    "assembler=VectorAssembler().setInputCols(data.columns[:-1]).setOutputCol('featureVector')\n",
    "classifier=DecisionTreeClassifier().setFeaturesCol('featureVector').setPredictionCol('Prediction')\n",
    "pipeline=Pipeline().setStages([assembler,classifier])\n",
    "\n",
    "from pyspark.ml.tuning import ParamGridBuilder\n",
    "paramGrid=ParamGridBuilder().addGrid(classifier.impurity,['gini','entropy']).addGrid(classifier.maxDepth,[1,20]).\\\n",
    "addGrid(classifier.minInfoGain,[0.0,0.5]).\\\n",
    "addGrid(classifier.maxBins,[40,300]).build()\n",
    "\n",
    "accuracy=MulticlassClassificationEvaluator().setLabelCol('Cover_Type').setPredictionCol('Prediction').setMetricName('accuracy')"
   ]
  },
  {
   "cell_type": "code",
   "execution_count": 21,
   "id": "9be5f0cf",
   "metadata": {
    "scrolled": false
   },
   "outputs": [],
   "source": [
    "from pyspark.ml.tuning import TrainValidationSplit\n",
    "validator=TrainValidationSplit(estimator=pipeline,evaluator=accuracy,estimatorParamMaps=paramGrid,trainRatio=0.9)\n",
    "validator_model=validator.fit(train)"
   ]
  },
  {
   "cell_type": "code",
   "execution_count": 22,
   "id": "143cdc4c",
   "metadata": {},
   "outputs": [
    {
     "name": "stdout",
     "output_type": "stream",
     "text": [
      "{Param(parent='DecisionTreeClassifier_41f1cf868350', name='impurity', doc='Criterion used for information gain calculation (case-insensitive). Supported options: entropy, gini'): 'gini',\n",
      " Param(parent='DecisionTreeClassifier_41f1cf868350', name='minInstancesPerNode', doc='Minimum number of instances each child must have after split. If a split causes the left or right child to have fewer than minInstancesPerNode, the split will be discarded as invalid. Should be >= 1.'): 1,\n",
      " Param(parent='DecisionTreeClassifier_41f1cf868350', name='maxMemoryInMB', doc='Maximum memory in MB allocated to histogram aggregation. If too small, then 1 node will be split per iteration, and its aggregates may exceed this size.'): 256,\n",
      " Param(parent='DecisionTreeClassifier_41f1cf868350', name='checkpointInterval', doc='set checkpoint interval (>= 1) or disable checkpoint (-1). E.g. 10 means that the cache will get checkpointed every 10 iterations. Note: this setting will be ignored if the checkpoint directory is not set in the SparkContext.'): 10,\n",
      " Param(parent='DecisionTreeClassifier_41f1cf868350', name='cacheNodeIds', doc='If false, the algorithm will pass trees to executors to match instances with nodes. If true, the algorithm will cache node IDs for each instance. Caching can speed up training of deeper trees. Users can set how often should the cache be checkpointed or disable it by setting checkpointInterval.'): False,\n",
      " Param(parent='DecisionTreeClassifier_41f1cf868350', name='rawPredictionCol', doc='raw prediction (a.k.a. confidence) column name.'): 'rawPrediction',\n",
      " Param(parent='DecisionTreeClassifier_41f1cf868350', name='minWeightFractionPerNode', doc='Minimum fraction of the weighted sample count that each child must have after split. If a split causes the fraction of the total weight in the left or right child to be less than minWeightFractionPerNode, the split will be discarded as invalid. Should be in interval [0.0, 0.5).'): 0.0,\n",
      " Param(parent='DecisionTreeClassifier_41f1cf868350', name='leafCol', doc='Leaf indices column name. Predicted leaf index of each instance in each tree by preorder.'): '',\n",
      " Param(parent='DecisionTreeClassifier_41f1cf868350', name='minInfoGain', doc='Minimum information gain for a split to be considered at a tree node.'): 0.0,\n",
      " Param(parent='DecisionTreeClassifier_41f1cf868350', name='seed', doc='random seed.'): -1335316342079656144,\n",
      " Param(parent='DecisionTreeClassifier_41f1cf868350', name='maxDepth', doc='Maximum depth of the tree. (>= 0) E.g., depth 0 means 1 leaf node; depth 1 means 1 internal node + 2 leaf nodes. Must be in range [0, 30].'): 20,\n",
      " Param(parent='DecisionTreeClassifier_41f1cf868350', name='labelCol', doc='label column name.'): 'label',\n",
      " Param(parent='DecisionTreeClassifier_41f1cf868350', name='predictionCol', doc='prediction column name.'): 'Prediction',\n",
      " Param(parent='DecisionTreeClassifier_41f1cf868350', name='featuresCol', doc='features column name.'): 'featureVector',\n",
      " Param(parent='DecisionTreeClassifier_41f1cf868350', name='maxBins', doc='Max number of bins for discretizing continuous features.  Must be >=2 and >= number of categories for any categorical feature.'): 40,\n",
      " Param(parent='DecisionTreeClassifier_41f1cf868350', name='probabilityCol', doc='Column name for predicted class conditional probabilities. Note: Not all models output well-calibrated probability estimates! These probabilities should be treated as confidences, not precise probabilities.'): 'probability'}\n"
     ]
    }
   ],
   "source": [
    "from pprint import pprint\n",
    "best_model = validator_model.bestModel\n",
    "pprint(best_model.stages[1].extractParamMap())"
   ]
  },
  {
   "cell_type": "code",
   "execution_count": 24,
   "id": "8159cf3c",
   "metadata": {},
   "outputs": [
    {
     "data": {
      "text/plain": [
       "[(1.0,\n",
       "  {Param(parent='DecisionTreeClassifier_41f1cf868350', name='impurity', doc='Criterion used for information gain calculation (case-insensitive). Supported options: entropy, gini'): 'gini',\n",
       "   Param(parent='DecisionTreeClassifier_41f1cf868350', name='maxDepth', doc='Maximum depth of the tree. (>= 0) E.g., depth 0 means 1 leaf node; depth 1 means 1 internal node + 2 leaf nodes. Must be in range [0, 30].'): 20,\n",
       "   Param(parent='DecisionTreeClassifier_41f1cf868350', name='minInfoGain', doc='Minimum information gain for a split to be considered at a tree node.'): 0.0,\n",
       "   Param(parent='DecisionTreeClassifier_41f1cf868350', name='maxBins', doc='Max number of bins for discretizing continuous features.  Must be >=2 and >= number of categories for any categorical feature.'): 40}),\n",
       " (1.0,\n",
       "  {Param(parent='DecisionTreeClassifier_41f1cf868350', name='impurity', doc='Criterion used for information gain calculation (case-insensitive). Supported options: entropy, gini'): 'gini',\n",
       "   Param(parent='DecisionTreeClassifier_41f1cf868350', name='maxDepth', doc='Maximum depth of the tree. (>= 0) E.g., depth 0 means 1 leaf node; depth 1 means 1 internal node + 2 leaf nodes. Must be in range [0, 30].'): 20,\n",
       "   Param(parent='DecisionTreeClassifier_41f1cf868350', name='minInfoGain', doc='Minimum information gain for a split to be considered at a tree node.'): 0.0,\n",
       "   Param(parent='DecisionTreeClassifier_41f1cf868350', name='maxBins', doc='Max number of bins for discretizing continuous features.  Must be >=2 and >= number of categories for any categorical feature.'): 300}),\n",
       " (1.0,\n",
       "  {Param(parent='DecisionTreeClassifier_41f1cf868350', name='impurity', doc='Criterion used for information gain calculation (case-insensitive). Supported options: entropy, gini'): 'entropy',\n",
       "   Param(parent='DecisionTreeClassifier_41f1cf868350', name='maxDepth', doc='Maximum depth of the tree. (>= 0) E.g., depth 0 means 1 leaf node; depth 1 means 1 internal node + 2 leaf nodes. Must be in range [0, 30].'): 20,\n",
       "   Param(parent='DecisionTreeClassifier_41f1cf868350', name='minInfoGain', doc='Minimum information gain for a split to be considered at a tree node.'): 0.0,\n",
       "   Param(parent='DecisionTreeClassifier_41f1cf868350', name='maxBins', doc='Max number of bins for discretizing continuous features.  Must be >=2 and >= number of categories for any categorical feature.'): 40}),\n",
       " (1.0,\n",
       "  {Param(parent='DecisionTreeClassifier_41f1cf868350', name='impurity', doc='Criterion used for information gain calculation (case-insensitive). Supported options: entropy, gini'): 'entropy',\n",
       "   Param(parent='DecisionTreeClassifier_41f1cf868350', name='maxDepth', doc='Maximum depth of the tree. (>= 0) E.g., depth 0 means 1 leaf node; depth 1 means 1 internal node + 2 leaf nodes. Must be in range [0, 30].'): 20,\n",
       "   Param(parent='DecisionTreeClassifier_41f1cf868350', name='minInfoGain', doc='Minimum information gain for a split to be considered at a tree node.'): 0.0,\n",
       "   Param(parent='DecisionTreeClassifier_41f1cf868350', name='maxBins', doc='Max number of bins for discretizing continuous features.  Must be >=2 and >= number of categories for any categorical feature.'): 300}),\n",
       " (0.9956772612362261,\n",
       "  {Param(parent='DecisionTreeClassifier_41f1cf868350', name='impurity', doc='Criterion used for information gain calculation (case-insensitive). Supported options: entropy, gini'): 'entropy',\n",
       "   Param(parent='DecisionTreeClassifier_41f1cf868350', name='maxDepth', doc='Maximum depth of the tree. (>= 0) E.g., depth 0 means 1 leaf node; depth 1 means 1 internal node + 2 leaf nodes. Must be in range [0, 30].'): 20,\n",
       "   Param(parent='DecisionTreeClassifier_41f1cf868350', name='minInfoGain', doc='Minimum information gain for a split to be considered at a tree node.'): 0.5,\n",
       "   Param(parent='DecisionTreeClassifier_41f1cf868350', name='maxBins', doc='Max number of bins for discretizing continuous features.  Must be >=2 and >= number of categories for any categorical feature.'): 40}),\n",
       " (0.9956772612362261,\n",
       "  {Param(parent='DecisionTreeClassifier_41f1cf868350', name='impurity', doc='Criterion used for information gain calculation (case-insensitive). Supported options: entropy, gini'): 'entropy',\n",
       "   Param(parent='DecisionTreeClassifier_41f1cf868350', name='maxDepth', doc='Maximum depth of the tree. (>= 0) E.g., depth 0 means 1 leaf node; depth 1 means 1 internal node + 2 leaf nodes. Must be in range [0, 30].'): 20,\n",
       "   Param(parent='DecisionTreeClassifier_41f1cf868350', name='minInfoGain', doc='Minimum information gain for a split to be considered at a tree node.'): 0.5,\n",
       "   Param(parent='DecisionTreeClassifier_41f1cf868350', name='maxBins', doc='Max number of bins for discretizing continuous features.  Must be >=2 and >= number of categories for any categorical feature.'): 300}),\n",
       " (0.8511163858816264,\n",
       "  {Param(parent='DecisionTreeClassifier_41f1cf868350', name='impurity', doc='Criterion used for information gain calculation (case-insensitive). Supported options: entropy, gini'): 'gini',\n",
       "   Param(parent='DecisionTreeClassifier_41f1cf868350', name='maxDepth', doc='Maximum depth of the tree. (>= 0) E.g., depth 0 means 1 leaf node; depth 1 means 1 internal node + 2 leaf nodes. Must be in range [0, 30].'): 1,\n",
       "   Param(parent='DecisionTreeClassifier_41f1cf868350', name='minInfoGain', doc='Minimum information gain for a split to be considered at a tree node.'): 0.0,\n",
       "   Param(parent='DecisionTreeClassifier_41f1cf868350', name='maxBins', doc='Max number of bins for discretizing continuous features.  Must be >=2 and >= number of categories for any categorical feature.'): 40}),\n",
       " (0.8511163858816264,\n",
       "  {Param(parent='DecisionTreeClassifier_41f1cf868350', name='impurity', doc='Criterion used for information gain calculation (case-insensitive). Supported options: entropy, gini'): 'gini',\n",
       "   Param(parent='DecisionTreeClassifier_41f1cf868350', name='maxDepth', doc='Maximum depth of the tree. (>= 0) E.g., depth 0 means 1 leaf node; depth 1 means 1 internal node + 2 leaf nodes. Must be in range [0, 30].'): 1,\n",
       "   Param(parent='DecisionTreeClassifier_41f1cf868350', name='minInfoGain', doc='Minimum information gain for a split to be considered at a tree node.'): 0.0,\n",
       "   Param(parent='DecisionTreeClassifier_41f1cf868350', name='maxBins', doc='Max number of bins for discretizing continuous features.  Must be >=2 and >= number of categories for any categorical feature.'): 300}),\n",
       " (0.8511163858816264,\n",
       "  {Param(parent='DecisionTreeClassifier_41f1cf868350', name='impurity', doc='Criterion used for information gain calculation (case-insensitive). Supported options: entropy, gini'): 'entropy',\n",
       "   Param(parent='DecisionTreeClassifier_41f1cf868350', name='maxDepth', doc='Maximum depth of the tree. (>= 0) E.g., depth 0 means 1 leaf node; depth 1 means 1 internal node + 2 leaf nodes. Must be in range [0, 30].'): 1,\n",
       "   Param(parent='DecisionTreeClassifier_41f1cf868350', name='minInfoGain', doc='Minimum information gain for a split to be considered at a tree node.'): 0.0,\n",
       "   Param(parent='DecisionTreeClassifier_41f1cf868350', name='maxBins', doc='Max number of bins for discretizing continuous features.  Must be >=2 and >= number of categories for any categorical feature.'): 40}),\n",
       " (0.8511163858816264,\n",
       "  {Param(parent='DecisionTreeClassifier_41f1cf868350', name='impurity', doc='Criterion used for information gain calculation (case-insensitive). Supported options: entropy, gini'): 'entropy',\n",
       "   Param(parent='DecisionTreeClassifier_41f1cf868350', name='maxDepth', doc='Maximum depth of the tree. (>= 0) E.g., depth 0 means 1 leaf node; depth 1 means 1 internal node + 2 leaf nodes. Must be in range [0, 30].'): 1,\n",
       "   Param(parent='DecisionTreeClassifier_41f1cf868350', name='minInfoGain', doc='Minimum information gain for a split to be considered at a tree node.'): 0.0,\n",
       "   Param(parent='DecisionTreeClassifier_41f1cf868350', name='maxBins', doc='Max number of bins for discretizing continuous features.  Must be >=2 and >= number of categories for any categorical feature.'): 300}),\n",
       " (0.8511163858816264,\n",
       "  {Param(parent='DecisionTreeClassifier_41f1cf868350', name='impurity', doc='Criterion used for information gain calculation (case-insensitive). Supported options: entropy, gini'): 'entropy',\n",
       "   Param(parent='DecisionTreeClassifier_41f1cf868350', name='maxDepth', doc='Maximum depth of the tree. (>= 0) E.g., depth 0 means 1 leaf node; depth 1 means 1 internal node + 2 leaf nodes. Must be in range [0, 30].'): 1,\n",
       "   Param(parent='DecisionTreeClassifier_41f1cf868350', name='minInfoGain', doc='Minimum information gain for a split to be considered at a tree node.'): 0.5,\n",
       "   Param(parent='DecisionTreeClassifier_41f1cf868350', name='maxBins', doc='Max number of bins for discretizing continuous features.  Must be >=2 and >= number of categories for any categorical feature.'): 40}),\n",
       " (0.8511163858816264,\n",
       "  {Param(parent='DecisionTreeClassifier_41f1cf868350', name='impurity', doc='Criterion used for information gain calculation (case-insensitive). Supported options: entropy, gini'): 'entropy',\n",
       "   Param(parent='DecisionTreeClassifier_41f1cf868350', name='maxDepth', doc='Maximum depth of the tree. (>= 0) E.g., depth 0 means 1 leaf node; depth 1 means 1 internal node + 2 leaf nodes. Must be in range [0, 30].'): 1,\n",
       "   Param(parent='DecisionTreeClassifier_41f1cf868350', name='minInfoGain', doc='Minimum information gain for a split to be considered at a tree node.'): 0.5,\n",
       "   Param(parent='DecisionTreeClassifier_41f1cf868350', name='maxBins', doc='Max number of bins for discretizing continuous features.  Must be >=2 and >= number of categories for any categorical feature.'): 300}),\n",
       " (0.4856712788745441,\n",
       "  {Param(parent='DecisionTreeClassifier_41f1cf868350', name='impurity', doc='Criterion used for information gain calculation (case-insensitive). Supported options: entropy, gini'): 'gini',\n",
       "   Param(parent='DecisionTreeClassifier_41f1cf868350', name='maxDepth', doc='Maximum depth of the tree. (>= 0) E.g., depth 0 means 1 leaf node; depth 1 means 1 internal node + 2 leaf nodes. Must be in range [0, 30].'): 1,\n",
       "   Param(parent='DecisionTreeClassifier_41f1cf868350', name='minInfoGain', doc='Minimum information gain for a split to be considered at a tree node.'): 0.5,\n",
       "   Param(parent='DecisionTreeClassifier_41f1cf868350', name='maxBins', doc='Max number of bins for discretizing continuous features.  Must be >=2 and >= number of categories for any categorical feature.'): 40}),\n",
       " (0.4856712788745441,\n",
       "  {Param(parent='DecisionTreeClassifier_41f1cf868350', name='impurity', doc='Criterion used for information gain calculation (case-insensitive). Supported options: entropy, gini'): 'gini',\n",
       "   Param(parent='DecisionTreeClassifier_41f1cf868350', name='maxDepth', doc='Maximum depth of the tree. (>= 0) E.g., depth 0 means 1 leaf node; depth 1 means 1 internal node + 2 leaf nodes. Must be in range [0, 30].'): 1,\n",
       "   Param(parent='DecisionTreeClassifier_41f1cf868350', name='minInfoGain', doc='Minimum information gain for a split to be considered at a tree node.'): 0.5,\n",
       "   Param(parent='DecisionTreeClassifier_41f1cf868350', name='maxBins', doc='Max number of bins for discretizing continuous features.  Must be >=2 and >= number of categories for any categorical feature.'): 300}),\n",
       " (0.4856712788745441,\n",
       "  {Param(parent='DecisionTreeClassifier_41f1cf868350', name='impurity', doc='Criterion used for information gain calculation (case-insensitive). Supported options: entropy, gini'): 'gini',\n",
       "   Param(parent='DecisionTreeClassifier_41f1cf868350', name='maxDepth', doc='Maximum depth of the tree. (>= 0) E.g., depth 0 means 1 leaf node; depth 1 means 1 internal node + 2 leaf nodes. Must be in range [0, 30].'): 20,\n",
       "   Param(parent='DecisionTreeClassifier_41f1cf868350', name='minInfoGain', doc='Minimum information gain for a split to be considered at a tree node.'): 0.5,\n",
       "   Param(parent='DecisionTreeClassifier_41f1cf868350', name='maxBins', doc='Max number of bins for discretizing continuous features.  Must be >=2 and >= number of categories for any categorical feature.'): 40}),\n",
       " (0.4856712788745441,\n",
       "  {Param(parent='DecisionTreeClassifier_41f1cf868350', name='impurity', doc='Criterion used for information gain calculation (case-insensitive). Supported options: entropy, gini'): 'gini',\n",
       "   Param(parent='DecisionTreeClassifier_41f1cf868350', name='maxDepth', doc='Maximum depth of the tree. (>= 0) E.g., depth 0 means 1 leaf node; depth 1 means 1 internal node + 2 leaf nodes. Must be in range [0, 30].'): 20,\n",
       "   Param(parent='DecisionTreeClassifier_41f1cf868350', name='minInfoGain', doc='Minimum information gain for a split to be considered at a tree node.'): 0.5,\n",
       "   Param(parent='DecisionTreeClassifier_41f1cf868350', name='maxBins', doc='Max number of bins for discretizing continuous features.  Must be >=2 and >= number of categories for any categorical feature.'): 300})]"
      ]
     },
     "execution_count": 24,
     "metadata": {},
     "output_type": "execute_result"
    }
   ],
   "source": [
    "validator_model = validator.fit(train)\n",
    "metrics = validator_model.validationMetrics\n",
    "params = validator_model.getEstimatorParamMaps()\n",
    "metrics_and_params = list(zip(metrics, params))\n",
    "metrics_and_params.sort(key=lambda x: x[0], reverse=True)\n",
    "metrics_and_params"
   ]
  },
  {
   "cell_type": "code",
   "execution_count": 25,
   "id": "ca0624e7",
   "metadata": {},
   "outputs": [
    {
     "name": "stdout",
     "output_type": "stream",
     "text": [
      "1.0\n"
     ]
    }
   ],
   "source": [
    "metrics.sort(reverse=True)\n",
    "print(metrics[0])\n"
   ]
  },
  {
   "cell_type": "code",
   "execution_count": 28,
   "id": "9e1b3c2d",
   "metadata": {},
   "outputs": [
    {
     "data": {
      "text/plain": [
       "1.0"
      ]
     },
     "execution_count": 28,
     "metadata": {},
     "output_type": "execute_result"
    }
   ],
   "source": [
    "accuracy.evaluate(best_model.transform(test))"
   ]
  },
  {
   "cell_type": "code",
   "execution_count": 30,
   "id": "31a1752a",
   "metadata": {},
   "outputs": [
    {
     "name": "stdout",
     "output_type": "stream",
     "text": [
      "root\n",
      " |-- Elevation: integer (nullable = true)\n",
      " |-- Aspect: integer (nullable = true)\n",
      " |-- Slope: integer (nullable = true)\n",
      " |-- Horizontal_Distance_To_Hydrology: integer (nullable = true)\n",
      " |-- Vertical_Distance_To_Hydrology: integer (nullable = true)\n",
      " |-- Horizontal_Distance_To_Roadways: integer (nullable = true)\n",
      " |-- Hillshade_9am: integer (nullable = true)\n",
      " |-- Hillshade_Noon: integer (nullable = true)\n",
      " |-- Hillshade_3pm: integer (nullable = true)\n",
      " |-- Horizontal_Distance_To_Fire_Points: integer (nullable = true)\n",
      " |-- Cover_Type: integer (nullable = true)\n",
      " |-- label: double (nullable = true)\n",
      " |-- wilderness: integer (nullable = true)\n",
      " |-- soil: integer (nullable = true)\n",
      "\n"
     ]
    }
   ],
   "source": [
    "#0.0.4 Categorical Features Revisited\n",
    "from pyspark.sql.functions import udf, col\n",
    "from pyspark.sql.types import IntegerType\n",
    "from pyspark.ml.feature import VectorAssembler\n",
    "\n",
    "def unencode_one_hot(data):\n",
    "    wilderness_cols = ['Wilderness_Area_' + str(i) for i in range(4)]\n",
    "    wilderness_assembler = VectorAssembler(). \\\n",
    "        setInputCols(wilderness_cols). \\\n",
    "        setOutputCol(\"wilderness\")\n",
    "    \n",
    "    unhot_udf = udf(lambda v: v.toArray().tolist().index(1), IntegerType())\n",
    "    \n",
    "    with_wilderness = wilderness_assembler.transform(data). \\\n",
    "        drop(*wilderness_cols). \\\n",
    "        withColumn(\"wilderness\", unhot_udf(col(\"wilderness\")))\n",
    "    \n",
    "    soil_cols = ['Soil_Type_' + str(i) for i in range(40)]\n",
    "    soil_assembler = VectorAssembler(). \\\n",
    "        setInputCols(soil_cols). \\\n",
    "        setOutputCol(\"soil\")\n",
    "    \n",
    "    with_soil = soil_assembler. \\\n",
    "        transform(with_wilderness). \\\n",
    "        drop(*soil_cols). \\\n",
    "        withColumn(\"soil\", unhot_udf(col(\"soil\")))\n",
    "    \n",
    "    return with_soil\n",
    "unenc_train_data = unencode_one_hot(train)\n",
    "unenc_train_data.printSchema()"
   ]
  },
  {
   "cell_type": "code",
   "execution_count": 32,
   "id": "cba35e02",
   "metadata": {},
   "outputs": [],
   "source": [
    "from pyspark.ml.feature import VectorIndexer\n",
    "cols = unenc_train_data.columns\n",
    "input_cols = [c for c in cols if c!='Cover_Type']\n",
    "assembler = VectorAssembler().setInputCols(input_cols).setOutputCol(\"featureVector\")\n",
    "indexer = VectorIndexer().setMaxCategories(40).setInputCol(\"featureVector\").setOutputCol(\"indexedVector\")\n",
    "classifier = DecisionTreeClassifier().setLabelCol(\"Cover_Type\").setFeaturesCol(\"indexedVector\").setPredictionCol(\"prediction\")\n",
    "pipeline = Pipeline().setStages([assembler, indexer, classifier])\n"
   ]
  },
  {
   "cell_type": "code",
   "execution_count": 33,
   "id": "0b984cf4",
   "metadata": {},
   "outputs": [],
   "source": [
    "#Random Forrest\n",
    "from pyspark.ml.classification import RandomForestClassifier\n",
    "\n",
    "classifier = RandomForestClassifier(\n",
    "    seed=1234,\n",
    "    labelCol=\"Cover_Type\",\n",
    "    featuresCol=\"indexedVector\",\n",
    "    predictionCol=\"prediction\"\n",
    ")\n"
   ]
  },
  {
   "cell_type": "code",
   "execution_count": 34,
   "id": "33a1dba2",
   "metadata": {},
   "outputs": [
    {
     "data": {
      "text/plain": [
       "['Elevation',\n",
       " 'Aspect',\n",
       " 'Slope',\n",
       " 'Horizontal_Distance_To_Hydrology',\n",
       " 'Vertical_Distance_To_Hydrology',\n",
       " 'Horizontal_Distance_To_Roadways',\n",
       " 'Hillshade_9am',\n",
       " 'Hillshade_Noon',\n",
       " 'Hillshade_3pm',\n",
       " 'Horizontal_Distance_To_Fire_Points',\n",
       " 'Cover_Type',\n",
       " 'label',\n",
       " 'wilderness',\n",
       " 'soil']"
      ]
     },
     "execution_count": 34,
     "metadata": {},
     "output_type": "execute_result"
    }
   ],
   "source": [
    "unenc_train_data.columns\n"
   ]
  },
  {
   "cell_type": "code",
   "execution_count": null,
   "id": "7376d08b",
   "metadata": {},
   "outputs": [],
   "source": [
    "from pyspark.ml.feature import VectorAssembler, VectorIndexer\n",
    "from pyspark.ml.classification import RandomForestClassifier\n",
    "from pyspark.ml import Pipeline\n",
    "from pyspark.ml.tuning import ParamGridBuilder, TrainValidationSplit\n",
    "from pyspark.ml.evaluation import MulticlassClassificationEvaluator\n",
    "\n",
    "# Define input columns\n",
    "cols = unenc_train_data.columns\n",
    "input_cols = [c for c in cols if c != 'Cover_Type']\n",
    "\n",
    "# Vector assembler\n",
    "assembler = VectorAssembler().setInputCols(input_cols).setOutputCol(\"featureVector\")\n",
    "\n",
    "# Vector indexer\n",
    "indexer = VectorIndexer().setMaxCategories(40).setInputCol(\"featureVector\").setOutputCol(\"indexedVector\")\n",
    "\n",
    "# Classifier\n",
    "classifier = RandomForestClassifier(seed=1234, labelCol=\"Cover_Type\", featuresCol=\"indexedVector\", predictionCol=\"prediction\")\n",
    "\n",
    "# Pipeline\n",
    "pipeline = Pipeline().setStages([assembler, indexer, classifier])\n",
    "\n",
    "# Parameter grid\n",
    "paramGrid = ParamGridBuilder(). \\\n",
    "    addGrid(classifier.impurity, [\"gini\", \"entropy\"]). \\\n",
    "    addGrid(classifier.maxDepth, [1, 20]). \\\n",
    "    addGrid(classifier.maxBins, [40, 300]). \\\n",
    "    addGrid(classifier.minInfoGain, [0.0, 0.05]). \\\n",
    "    build()\n",
    "\n",
    "# Multiclass classification evaluator\n",
    "multiclassEval = MulticlassClassificationEvaluator(). \\\n",
    "    setLabelCol(\"Cover_Type\"). \\\n",
    "    setPredictionCol(\"prediction\"). \\\n",
    "    setMetricName(\"accuracy\")\n",
    "\n",
    "# Validator\n",
    "validator = TrainValidationSplit(seed=1234,\n",
    "                                 estimator=pipeline,\n",
    "                                 evaluator=multiclassEval,\n",
    "                                 estimatorParamMaps=paramGrid,\n",
    "                                 trainRatio=0.9)\n",
    "\n",
    "# Fit the model\n",
    "validator_model = validator.fit(unenc_train_data)\n",
    "\n",
    "# Get the best model\n",
    "best_model = validator_model.bestModel\n"
   ]
  },
  {
   "cell_type": "code",
   "execution_count": null,
   "id": "b9ca77b8",
   "metadata": {},
   "outputs": [],
   "source": [
    "forest_model = best_model.stages[2]\n",
    "feature_importance_list = list(zip(input_cols,\n",
    "forest_model.featureImportances.toArray()))\n",
    "feature_importance_list.sort(key=lambda x: x[1], reverse=True)\n",
    "pprint(feature_importance_list)"
   ]
  },
  {
   "cell_type": "code",
   "execution_count": null,
   "id": "401c0cd4",
   "metadata": {},
   "outputs": [],
   "source": [
    "unenc_test_data = unencode_one_hot(test_data)\n",
    "best_model.transform(unenc_test_data.drop(\"Cover_Type\")).\\\n",
    "select(\"prediction\").show(1)\n"
   ]
  },
  {
   "cell_type": "code",
   "execution_count": null,
   "id": "b011f4a5",
   "metadata": {},
   "outputs": [],
   "source": []
  },
  {
   "cell_type": "code",
   "execution_count": null,
   "id": "fe406f15",
   "metadata": {},
   "outputs": [],
   "source": []
  },
  {
   "cell_type": "code",
   "execution_count": null,
   "id": "04a2a2c9",
   "metadata": {},
   "outputs": [],
   "source": []
  },
  {
   "cell_type": "code",
   "execution_count": null,
   "id": "0df8077a",
   "metadata": {},
   "outputs": [],
   "source": []
  },
  {
   "cell_type": "code",
   "execution_count": null,
   "id": "db279e5a",
   "metadata": {},
   "outputs": [],
   "source": []
  },
  {
   "cell_type": "code",
   "execution_count": null,
   "id": "230663e0",
   "metadata": {},
   "outputs": [],
   "source": []
  },
  {
   "cell_type": "code",
   "execution_count": null,
   "id": "6ab89d0d",
   "metadata": {},
   "outputs": [],
   "source": []
  },
  {
   "cell_type": "code",
   "execution_count": null,
   "id": "a09400c8",
   "metadata": {},
   "outputs": [],
   "source": []
  },
  {
   "cell_type": "code",
   "execution_count": null,
   "id": "4b618525",
   "metadata": {},
   "outputs": [],
   "source": []
  },
  {
   "cell_type": "code",
   "execution_count": null,
   "id": "99e25835",
   "metadata": {},
   "outputs": [],
   "source": []
  },
  {
   "cell_type": "code",
   "execution_count": null,
   "id": "84d8a782",
   "metadata": {},
   "outputs": [],
   "source": []
  },
  {
   "cell_type": "code",
   "execution_count": null,
   "id": "8c28060f",
   "metadata": {},
   "outputs": [],
   "source": []
  },
  {
   "cell_type": "code",
   "execution_count": null,
   "id": "d0cbc1e9",
   "metadata": {},
   "outputs": [],
   "source": []
  },
  {
   "cell_type": "code",
   "execution_count": null,
   "id": "58feae48",
   "metadata": {},
   "outputs": [],
   "source": []
  },
  {
   "cell_type": "code",
   "execution_count": null,
   "id": "f37a1297",
   "metadata": {},
   "outputs": [],
   "source": []
  },
  {
   "cell_type": "code",
   "execution_count": null,
   "id": "ae66939a",
   "metadata": {},
   "outputs": [],
   "source": []
  },
  {
   "cell_type": "code",
   "execution_count": null,
   "id": "9af6e0b0",
   "metadata": {},
   "outputs": [],
   "source": []
  },
  {
   "cell_type": "code",
   "execution_count": null,
   "id": "5c6f6167",
   "metadata": {},
   "outputs": [],
   "source": []
  },
  {
   "cell_type": "code",
   "execution_count": null,
   "id": "4480ca1b",
   "metadata": {},
   "outputs": [],
   "source": []
  },
  {
   "cell_type": "code",
   "execution_count": null,
   "id": "59b74f80",
   "metadata": {},
   "outputs": [],
   "source": []
  },
  {
   "cell_type": "code",
   "execution_count": null,
   "id": "909d3a90",
   "metadata": {},
   "outputs": [],
   "source": []
  },
  {
   "cell_type": "code",
   "execution_count": null,
   "id": "bd396553",
   "metadata": {},
   "outputs": [],
   "source": []
  },
  {
   "cell_type": "code",
   "execution_count": null,
   "id": "8e704780",
   "metadata": {},
   "outputs": [],
   "source": []
  },
  {
   "cell_type": "code",
   "execution_count": null,
   "id": "461e2122",
   "metadata": {},
   "outputs": [],
   "source": []
  },
  {
   "cell_type": "code",
   "execution_count": null,
   "id": "d0dfc67e",
   "metadata": {},
   "outputs": [],
   "source": []
  },
  {
   "cell_type": "code",
   "execution_count": null,
   "id": "5b0f9658",
   "metadata": {},
   "outputs": [],
   "source": []
  },
  {
   "cell_type": "code",
   "execution_count": null,
   "id": "7c7ab21e",
   "metadata": {},
   "outputs": [],
   "source": []
  },
  {
   "cell_type": "code",
   "execution_count": null,
   "id": "72440c73",
   "metadata": {},
   "outputs": [],
   "source": []
  },
  {
   "cell_type": "code",
   "execution_count": null,
   "id": "13e39b99",
   "metadata": {},
   "outputs": [],
   "source": []
  },
  {
   "cell_type": "code",
   "execution_count": null,
   "id": "40c57917",
   "metadata": {},
   "outputs": [],
   "source": []
  },
  {
   "cell_type": "code",
   "execution_count": null,
   "id": "9acb2a36",
   "metadata": {},
   "outputs": [],
   "source": []
  },
  {
   "cell_type": "code",
   "execution_count": null,
   "id": "e0125178",
   "metadata": {},
   "outputs": [],
   "source": []
  },
  {
   "cell_type": "code",
   "execution_count": null,
   "id": "97c5f62f",
   "metadata": {},
   "outputs": [],
   "source": []
  },
  {
   "cell_type": "code",
   "execution_count": null,
   "id": "a5f82ce3",
   "metadata": {},
   "outputs": [],
   "source": []
  },
  {
   "cell_type": "code",
   "execution_count": null,
   "id": "4b75a9ae",
   "metadata": {},
   "outputs": [],
   "source": []
  },
  {
   "cell_type": "code",
   "execution_count": null,
   "id": "16e42369",
   "metadata": {},
   "outputs": [],
   "source": []
  },
  {
   "cell_type": "code",
   "execution_count": null,
   "id": "d835a17d",
   "metadata": {},
   "outputs": [],
   "source": []
  },
  {
   "cell_type": "code",
   "execution_count": null,
   "id": "44317a8b",
   "metadata": {},
   "outputs": [],
   "source": []
  },
  {
   "cell_type": "code",
   "execution_count": null,
   "id": "6d061e62",
   "metadata": {},
   "outputs": [],
   "source": []
  },
  {
   "cell_type": "code",
   "execution_count": null,
   "id": "ce133178",
   "metadata": {},
   "outputs": [],
   "source": []
  },
  {
   "cell_type": "code",
   "execution_count": null,
   "id": "fbfdc7f2",
   "metadata": {},
   "outputs": [],
   "source": []
  },
  {
   "cell_type": "code",
   "execution_count": null,
   "id": "89d43c66",
   "metadata": {},
   "outputs": [],
   "source": []
  },
  {
   "cell_type": "code",
   "execution_count": null,
   "id": "675d2219",
   "metadata": {},
   "outputs": [],
   "source": []
  },
  {
   "cell_type": "code",
   "execution_count": null,
   "id": "fa3e0446",
   "metadata": {},
   "outputs": [],
   "source": []
  },
  {
   "cell_type": "code",
   "execution_count": null,
   "id": "c2ced38c",
   "metadata": {},
   "outputs": [],
   "source": []
  },
  {
   "cell_type": "code",
   "execution_count": null,
   "id": "e9a42793",
   "metadata": {},
   "outputs": [],
   "source": []
  },
  {
   "cell_type": "code",
   "execution_count": null,
   "id": "abc1a823",
   "metadata": {},
   "outputs": [],
   "source": []
  },
  {
   "cell_type": "code",
   "execution_count": null,
   "id": "d817a3d6",
   "metadata": {},
   "outputs": [],
   "source": []
  },
  {
   "cell_type": "code",
   "execution_count": null,
   "id": "b5caf9ad",
   "metadata": {},
   "outputs": [],
   "source": []
  },
  {
   "cell_type": "code",
   "execution_count": null,
   "id": "37adf338",
   "metadata": {},
   "outputs": [],
   "source": []
  },
  {
   "cell_type": "code",
   "execution_count": null,
   "id": "3e81fae9",
   "metadata": {},
   "outputs": [],
   "source": []
  },
  {
   "cell_type": "code",
   "execution_count": null,
   "id": "cd310109",
   "metadata": {},
   "outputs": [],
   "source": []
  },
  {
   "cell_type": "code",
   "execution_count": null,
   "id": "d62ab88f",
   "metadata": {},
   "outputs": [],
   "source": []
  },
  {
   "cell_type": "code",
   "execution_count": null,
   "id": "5c824e51",
   "metadata": {},
   "outputs": [],
   "source": []
  },
  {
   "cell_type": "code",
   "execution_count": null,
   "id": "db7c7f00",
   "metadata": {},
   "outputs": [],
   "source": []
  },
  {
   "cell_type": "code",
   "execution_count": null,
   "id": "f73c1435",
   "metadata": {},
   "outputs": [],
   "source": []
  },
  {
   "cell_type": "code",
   "execution_count": null,
   "id": "e60e7d2b",
   "metadata": {},
   "outputs": [],
   "source": []
  },
  {
   "cell_type": "code",
   "execution_count": null,
   "id": "fc6db729",
   "metadata": {},
   "outputs": [],
   "source": []
  },
  {
   "cell_type": "code",
   "execution_count": null,
   "id": "8227d856",
   "metadata": {},
   "outputs": [],
   "source": []
  },
  {
   "cell_type": "code",
   "execution_count": null,
   "id": "9df942a6",
   "metadata": {},
   "outputs": [],
   "source": []
  },
  {
   "cell_type": "code",
   "execution_count": null,
   "id": "391ccc72",
   "metadata": {},
   "outputs": [],
   "source": []
  }
 ],
 "metadata": {
  "kernelspec": {
   "display_name": "Python 3 (ipykernel)",
   "language": "python",
   "name": "python3"
  },
  "language_info": {
   "codemirror_mode": {
    "name": "ipython",
    "version": 3
   },
   "file_extension": ".py",
   "mimetype": "text/x-python",
   "name": "python",
   "nbconvert_exporter": "python",
   "pygments_lexer": "ipython3",
   "version": "3.9.12"
  }
 },
 "nbformat": 4,
 "nbformat_minor": 5
}
