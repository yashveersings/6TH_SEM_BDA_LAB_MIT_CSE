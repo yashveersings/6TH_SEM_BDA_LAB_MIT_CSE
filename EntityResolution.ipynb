{
 "cells": [
  {
   "cell_type": "code",
   "execution_count": 1,
   "id": "11e92ed4",
   "metadata": {},
   "outputs": [],
   "source": [
    "import pyspark\n",
    "import os\n",
    "import sys\n",
    "from pyspark.sql import SparkSession"
   ]
  },
  {
   "cell_type": "code",
   "execution_count": 2,
   "id": "9ad2c5f3",
   "metadata": {},
   "outputs": [],
   "source": [
    "os.environ['PYSPARK_PYTHON']=sys.executable\n",
    "os.environ['PYSPARK_DRIVER_PYTHON']=sys.executable\n",
    "\n",
    "spark=SparkSession.builder.getOrCreate()"
   ]
  },
  {
   "cell_type": "code",
   "execution_count": 8,
   "id": "bfd08460",
   "metadata": {},
   "outputs": [],
   "source": [
    "path=r\"C:\\Users\\LENOVO\\Desktop\\SUB 6TH SEM\\BDA\\LAB\\LAB3\\record+linkage+comparison+patterns\\donation\\block_1\\block_1.csv\"\n",
    "data=spark.read.csv(path,inferSchema=True,header=True)"
   ]
  },
  {
   "cell_type": "code",
   "execution_count": 9,
   "id": "3471011b",
   "metadata": {},
   "outputs": [
    {
     "name": "stdout",
     "output_type": "stream",
     "text": [
      "+-----+-----+-----------------+------------+------------+------------+-------+------+------+------+-------+--------+\n",
      "| id_1| id_2|     cmp_fname_c1|cmp_fname_c2|cmp_lname_c1|cmp_lname_c2|cmp_sex|cmp_bd|cmp_bm|cmp_by|cmp_plz|is_match|\n",
      "+-----+-----+-----------------+------------+------------+------------+-------+------+------+------+-------+--------+\n",
      "|37291|53113|0.833333333333333|           ?|         1.0|           ?|      1|     1|     1|     1|      0|    true|\n",
      "|39086|47614|                1|           ?|         1.0|           ?|      1|     1|     1|     1|      1|    true|\n",
      "|70031|70237|                1|           ?|         1.0|           ?|      1|     1|     1|     1|      1|    true|\n",
      "|84795|97439|                1|           ?|         1.0|           ?|      1|     1|     1|     1|      1|    true|\n",
      "|36950|42116|                1|           ?|         1.0|           1|      1|     1|     1|     1|      1|    true|\n",
      "|42413|48491|                1|           ?|         1.0|           ?|      1|     1|     1|     1|      1|    true|\n",
      "|25965|64753|                1|           ?|         1.0|           ?|      1|     1|     1|     1|      1|    true|\n",
      "|49451|90407|                1|           ?|         1.0|           ?|      1|     1|     1|     1|      0|    true|\n",
      "|39932|40902|                1|           ?|         1.0|           ?|      1|     1|     1|     1|      1|    true|\n",
      "|46626|47940|                1|           ?|         1.0|           ?|      1|     1|     1|     1|      1|    true|\n",
      "|48948|98379|                1|           ?|         1.0|           ?|      1|     1|     1|     1|      1|    true|\n",
      "| 4767| 4826|                1|           ?|         1.0|           ?|      1|     1|     1|     1|      1|    true|\n",
      "|45463|69659|                1|           ?|         1.0|           ?|      1|     1|     1|     1|      1|    true|\n",
      "|11367|13169|                1|           ?|         1.0|           ?|      1|     1|     1|     1|      1|    true|\n",
      "|10782|89636|                1|           ?|         1.0|           ?|      1|     0|     1|     1|      1|    true|\n",
      "|26206|39147|                1|           ?|         1.0|           ?|      1|     1|     1|     1|      1|    true|\n",
      "|16662|27083|                1|           1|         1.0|           ?|      1|     1|     1|     1|      1|    true|\n",
      "|18823|30204|                1|           1|         1.0|           ?|      1|     1|     1|     1|      1|    true|\n",
      "|38545|85418|                1|           ?|         1.0|           ?|      1|     1|     1|     1|      1|    true|\n",
      "|28963|39172|                1|           ?|         1.0|           ?|      1|     1|     1|     1|      1|    true|\n",
      "+-----+-----+-----------------+------------+------------+------------+-------+------+------+------+-------+--------+\n",
      "only showing top 20 rows\n",
      "\n"
     ]
    }
   ],
   "source": [
    "data.show()"
   ]
  },
  {
   "cell_type": "code",
   "execution_count": 12,
   "id": "407335d6",
   "metadata": {},
   "outputs": [
    {
     "name": "stdout",
     "output_type": "stream",
     "text": [
      "+--------+------+\n",
      "|is_match| count|\n",
      "+--------+------+\n",
      "|   false|572820|\n",
      "|    true|  2093|\n",
      "+--------+------+\n",
      "\n"
     ]
    }
   ],
   "source": [
    "from pyspark.sql.functions import col\n",
    "data.select('is_match').groupBy('is_match').count().orderBy(col('count').desc()).show()"
   ]
  },
  {
   "cell_type": "code",
   "execution_count": 16,
   "id": "6e038e69",
   "metadata": {},
   "outputs": [
    {
     "name": "stdout",
     "output_type": "stream",
     "text": [
      "+--------+------+\n",
      "|is_match|   cnt|\n",
      "+--------+------+\n",
      "|   false|572820|\n",
      "|    true|  2093|\n",
      "+--------+------+\n",
      "\n"
     ]
    }
   ],
   "source": [
    "data.createOrReplaceTempView('linkage')\n",
    "spark.sql(\"\"\"select is_match, count(*) cnt from linkage group by is_match order by cnt desc\"\"\").show()"
   ]
  },
  {
   "cell_type": "code",
   "execution_count": 21,
   "id": "25c2bcdc",
   "metadata": {
    "scrolled": true
   },
   "outputs": [
    {
     "name": "stdout",
     "output_type": "stream",
     "text": [
      "root\n",
      " |-- summary: string (nullable = true)\n",
      " |-- id_1: string (nullable = true)\n",
      " |-- id_2: string (nullable = true)\n",
      " |-- cmp_fname_c1: string (nullable = true)\n",
      " |-- cmp_fname_c2: string (nullable = true)\n",
      " |-- cmp_lname_c1: string (nullable = true)\n",
      " |-- cmp_lname_c2: string (nullable = true)\n",
      " |-- cmp_sex: string (nullable = true)\n",
      " |-- cmp_bd: string (nullable = true)\n",
      " |-- cmp_bm: string (nullable = true)\n",
      " |-- cmp_by: string (nullable = true)\n",
      " |-- cmp_plz: string (nullable = true)\n",
      "\n",
      "+-------+------------------+------------------+\n",
      "|summary|      cmp_fname_c1|      cmp_fname_c2|\n",
      "+-------+------------------+------------------+\n",
      "|  count|            574913|            574913|\n",
      "|   mean|0.7127592938253411|0.8977586763518969|\n",
      "| stddev|0.3889286452463531|0.2742577520430532|\n",
      "|    min|                 0|                 0|\n",
      "|    max|                 ?|                 ?|\n",
      "+-------+------------------+------------------+\n",
      "\n"
     ]
    }
   ],
   "source": [
    "#Fast Summary Statistics for DataFrames\n",
    "\n",
    "summary=data.describe()\n",
    "summary.printSchema()\n",
    "summary.select(\"summary\",\"cmp_fname_c1\",\"cmp_fname_c2\").show()"
   ]
  },
  {
   "cell_type": "code",
   "execution_count": 102,
   "id": "27e43f60",
   "metadata": {
    "scrolled": true
   },
   "outputs": [
    {
     "name": "stdout",
     "output_type": "stream",
     "text": [
      "+-----+-----+-----------------+------------+------------+------------+-------+------+------+------+-------+--------+\n",
      "| id_1| id_2|     cmp_fname_c1|cmp_fname_c2|cmp_lname_c1|cmp_lname_c2|cmp_sex|cmp_bd|cmp_bm|cmp_by|cmp_plz|is_match|\n",
      "+-----+-----+-----------------+------------+------------+------------+-------+------+------+------+-------+--------+\n",
      "|37291|53113|0.833333333333333|           ?|         1.0|           ?|      1|     1|     1|     1|      0|    true|\n",
      "|39086|47614|                1|           ?|         1.0|           ?|      1|     1|     1|     1|      1|    true|\n",
      "|70031|70237|                1|           ?|         1.0|           ?|      1|     1|     1|     1|      1|    true|\n",
      "|84795|97439|                1|           ?|         1.0|           ?|      1|     1|     1|     1|      1|    true|\n",
      "|36950|42116|                1|           ?|         1.0|           1|      1|     1|     1|     1|      1|    true|\n",
      "+-----+-----+-----------------+------------+------------+------------+-------+------+------+------+-------+--------+\n",
      "only showing top 5 rows\n",
      "\n",
      "+-------+------------------+-----------------+------------------+-------------------+------------------+-------------------+-------------------+-------------------+------------------+-------------------+--------------------+\n",
      "|summary|              id_1|             id_2|      cmp_fname_c1|       cmp_fname_c2|      cmp_lname_c1|       cmp_lname_c2|            cmp_sex|             cmp_bd|            cmp_bm|             cmp_by|             cmp_plz|\n",
      "+-------+------------------+-----------------+------------------+-------------------+------------------+-------------------+-------------------+-------------------+------------------+-------------------+--------------------+\n",
      "|  count|            572820|           572820|            572820|             572820|            572820|             572820|             572820|             572820|            572820|             572820|              572820|\n",
      "|   mean|33267.691156035056|66621.93907335638|0.7117214109572619| 0.8965313093953872| 0.313080575325605| 0.1464727178436856|  0.954966656192172|0.22194015622653895|0.4867762650194323|0.21983979272223172|0.002026143905208...|\n",
      "| stddev| 23629.17173939833|23620.20990793523|0.3892503865780509|0.27569600395266153|0.3322945432692609|0.16606808591409788|0.20737747425885392| 0.4155514706682507|0.4998255385763472| 0.4141383316053828| 0.04496712336847963|\n",
      "|    min|                 1|              136|                 0|                  0|               0.0|                  0|                  0|                  0|                 0|                  0|                   0|\n",
      "|    max|             99894|           100000|                 ?|                  ?|               1.0|                  ?|                  1|                  ?|                 ?|                  ?|                   ?|\n",
      "+-------+------------------+-----------------+------------------+-------------------+------------------+-------------------+-------------------+-------------------+------------------+-------------------+--------------------+\n",
      "\n"
     ]
    }
   ],
   "source": [
    "path=r\"C:\\Users\\LENOVO\\Desktop\\SUB 6TH SEM\\BDA\\LAB\\LAB3\\record+linkage+comparison+patterns\\donation\\block_1\\block_1.csv\"\n",
    "data=spark.read.csv(path,inferSchema=True,header=True)\n",
    "matches=data.filter(col('is_match')=='true')\n",
    "match_summary=matches.describe()\n",
    "matches.show(5) \n",
    "misses=data.filter(col('is_match')=='false')\n",
    "miss_summary=misses.describe()\n",
    "miss_summary.show()"
   ]
  },
  {
   "cell_type": "code",
   "execution_count": null,
   "id": "6adab212",
   "metadata": {},
   "outputs": [],
   "source": []
  },
  {
   "cell_type": "code",
   "execution_count": null,
   "id": "70965618",
   "metadata": {},
   "outputs": [],
   "source": []
  },
  {
   "cell_type": "code",
   "execution_count": null,
   "id": "384de062",
   "metadata": {},
   "outputs": [],
   "source": []
  },
  {
   "cell_type": "code",
   "execution_count": 59,
   "id": "2f8eeb0f",
   "metadata": {
    "scrolled": true
   },
   "outputs": [
    {
     "name": "stdout",
     "output_type": "stream",
     "text": [
      "+------------+--------+--------------------+-------------------+---+--------+\n",
      "|       field|   count|                mean|             stddev|min|     max|\n",
      "+------------+--------+--------------------+-------------------+---+--------+\n",
      "|        id_1|574913.0|  33271.962171667714| 23622.669425933756|1.0| 99894.0|\n",
      "|        id_2|574913.0|    66564.6636865056|  23642.00230967228|6.0|100000.0|\n",
      "|cmp_fname_c1|574913.0|  0.7127592938253411| 0.3889286452463531|0.0|    NULL|\n",
      "|cmp_fname_c2|574913.0|  0.8977586763518969| 0.2742577520430532|0.0|    NULL|\n",
      "|cmp_lname_c1|574913.0|  0.3155724578100624| 0.3342494687554245|0.0|     1.0|\n",
      "|cmp_lname_c2|574913.0|  0.3269155414552904| 0.3783092020540671|0.0|    NULL|\n",
      "|     cmp_sex|574913.0|  0.9550923357099248|0.20710152240504442|0.0|     1.0|\n",
      "|      cmp_bd|574913.0| 0.22475563232907309| 0.4174216587235557|0.0|    NULL|\n",
      "|      cmp_bm|574913.0|  0.4886361857246487| 0.4998712818281637|0.0|    NULL|\n",
      "|      cmp_by|574913.0| 0.22266639529199742| 0.4160365041645591|0.0|    NULL|\n",
      "|     cmp_plz|574913.0|0.005494946113964...|0.07392402321301972|0.0|    NULL|\n",
      "+------------+--------+--------------------+-------------------+---+--------+\n",
      "\n"
     ]
    }
   ],
   "source": [
    "#Pivoting and Reshaping DataFrames\n",
    "from pyspark.sql import DataFrame\n",
    "from pyspark.sql.types import DoubleType\n",
    "from pyspark.sql.types import DoubleType\n",
    "\n",
    "summary_p=summary.toPandas()\n",
    "summary_p=summary_p.set_index('summary').transpose().reset_index()\n",
    "summary_p=summary_p.rename(columns={'index':'field'})\n",
    "summary_p=summary_p.rename_axis(None,axis=1)\n",
    "summary_t=spark.createDataFrame(summary_p)\n",
    "\n",
    "for c in summary_t.columns:\n",
    "    if c=='field':\n",
    "        continue\n",
    "    else:\n",
    "        summary_t=summary_t.withColumn(c,summary_t[c].cast(DoubleType()))\n",
    "\n",
    "summary_t.show()"
   ]
  },
  {
   "cell_type": "code",
   "execution_count": 103,
   "id": "5fbbdf14",
   "metadata": {
    "scrolled": true
   },
   "outputs": [],
   "source": [
    "def pivot_summary(data):\n",
    "    data=data.toPandas()\n",
    "    data=data.set_index('summary').transpose().reset_index()\n",
    "    data=data.rename(columns={'index':'field'})\n",
    "    data=data.rename_axis(None,axis=1)\n",
    "    data=spark.createDataFrame(data)\n",
    "    for c in data.columns:\n",
    "        if c=='field':\n",
    "            continue\n",
    "        else:\n",
    "            data.withColumn(c,data[c].cast(DoubleType()))\n",
    "    return data "
   ]
  },
  {
   "cell_type": "code",
   "execution_count": null,
   "id": "38b49612",
   "metadata": {},
   "outputs": [],
   "source": []
  },
  {
   "cell_type": "code",
   "execution_count": 104,
   "id": "d440f13f",
   "metadata": {},
   "outputs": [
    {
     "name": "stdout",
     "output_type": "stream",
     "text": [
      "+------------+-----+------------------+--------------------+-----------------+-----+\n",
      "|       field|count|              mean|              stddev|              min|  max|\n",
      "+------------+-----+------------------+--------------------+-----------------+-----+\n",
      "|        id_1| 2093| 34440.86956521739|  21743.893698458884|                5|98459|\n",
      "|        id_2| 2093| 50889.32345914955|    24382.2927756227|                6|99897|\n",
      "|cmp_fname_c1| 2093|0.9970329792424486| 0.03979189523588238|                0|    ?|\n",
      "|cmp_fname_c2| 2093|0.9955357142857143| 0.05050762722761048|0.428571428571429|    ?|\n",
      "|cmp_lname_c1| 2093| 0.997560095051734|0.039218983113320234|              0.0|  1.0|\n",
      "|cmp_lname_c2| 2093| 0.960167714884696| 0.17815710016004582|                0|    ?|\n",
      "|     cmp_sex| 2093|0.9894887720974678| 0.10200839997032067|                0|    1|\n",
      "|      cmp_bd| 2093|0.9952221691352127| 0.06897301025106671|                0|    1|\n",
      "|      cmp_bm| 2093|0.9976110845676063| 0.04882978308841625|                0|    1|\n",
      "|      cmp_by| 2093|0.9961777353081701| 0.06172094528780762|                0|    1|\n",
      "|     cmp_plz| 2093|0.9545236955481091| 0.20839625610356813|                0|    ?|\n",
      "+------------+-----+------------------+--------------------+-----------------+-----+\n",
      "\n"
     ]
    }
   ],
   "source": [
    "miss_summary=pivot_summary(miss_summary)\n",
    "match_summary=pivot_summary(match_summary)\n",
    "match_summary.show()"
   ]
  },
  {
   "cell_type": "code",
   "execution_count": 107,
   "id": "1aded344",
   "metadata": {},
   "outputs": [],
   "source": [
    "match_summary.createOrReplaceTempView('match_view')\n",
    "miss_summary.createOrReplaceTempView('miss_view')"
   ]
  },
  {
   "cell_type": "code",
   "execution_count": 110,
   "id": "3f1cd9b3",
   "metadata": {},
   "outputs": [
    {
     "name": "stdout",
     "output_type": "stream",
     "text": [
      "+------------+--------+-------------------+\n",
      "|       field|   total|              delta|\n",
      "+------------+--------+-------------------+\n",
      "|        id_1|574913.0| 1173.1784091823356|\n",
      "|     cmp_plz|574913.0| 0.9524975516429005|\n",
      "|cmp_lname_c2|574913.0| 0.8136949970410103|\n",
      "|      cmp_by|574913.0| 0.7763379425859384|\n",
      "|      cmp_bd|574913.0| 0.7732820129086737|\n",
      "|cmp_lname_c1|574913.0| 0.6844795197261291|\n",
      "|      cmp_bm|574913.0|  0.510834819548174|\n",
      "|cmp_fname_c1|574913.0|0.28531156828518667|\n",
      "|cmp_fname_c2|574913.0|0.09900440489032714|\n",
      "|     cmp_sex|574913.0|0.03452211590529575|\n",
      "|        id_2|574913.0|-15732.615614206828|\n",
      "+------------+--------+-------------------+\n",
      "\n"
     ]
    }
   ],
   "source": [
    "spark.sql(\"\"\"\n",
    "    SELECT \n",
    "        a.field, \n",
    "        a.count + b.count AS total, \n",
    "        a.mean - b.mean AS delta \n",
    "    FROM \n",
    "        match_view AS a \n",
    "    INNER JOIN \n",
    "        miss_view AS b \n",
    "    ON \n",
    "        a.field = b.field \n",
    "    ORDER BY \n",
    "        delta DESC, \n",
    "        total DESC\n",
    "\"\"\").show()\n"
   ]
  },
  {
   "cell_type": "code",
   "execution_count": 111,
   "id": "fe5cf37e",
   "metadata": {},
   "outputs": [
    {
     "name": "stdout",
     "output_type": "stream",
     "text": [
      "root\n",
      " |-- id_1: integer (nullable = true)\n",
      " |-- id_2: integer (nullable = true)\n",
      " |-- cmp_fname_c1: string (nullable = true)\n",
      " |-- cmp_fname_c2: string (nullable = true)\n",
      " |-- cmp_lname_c1: double (nullable = true)\n",
      " |-- cmp_lname_c2: string (nullable = true)\n",
      " |-- cmp_sex: integer (nullable = true)\n",
      " |-- cmp_bd: string (nullable = true)\n",
      " |-- cmp_bm: string (nullable = true)\n",
      " |-- cmp_by: string (nullable = true)\n",
      " |-- cmp_plz: string (nullable = true)\n",
      " |-- is_match: boolean (nullable = true)\n",
      "\n"
     ]
    }
   ],
   "source": [
    "data.printSchema()"
   ]
  },
  {
   "cell_type": "code",
   "execution_count": 114,
   "id": "47a19637",
   "metadata": {},
   "outputs": [
    {
     "data": {
      "text/plain": [
       "'cmp_lname_c1+cmp_plz+cmp_bd+cmp_bm'"
      ]
     },
     "execution_count": 114,
     "metadata": {},
     "output_type": "execute_result"
    }
   ],
   "source": [
    "good_features=['cmp_lname_c1','cmp_plz','cmp_bd','cmp_bm']\n",
    "sum_expression='+'.join(good_features)\n",
    "sum_expression"
   ]
  },
  {
   "cell_type": "code",
   "execution_count": 120,
   "id": "d30ee4cf",
   "metadata": {},
   "outputs": [
    {
     "name": "stdout",
     "output_type": "stream",
     "text": [
      "+--------+-----+\n",
      "|is_match|score|\n",
      "+--------+-----+\n",
      "|    true|  3.0|\n",
      "|    true|  4.0|\n",
      "|    true|  4.0|\n",
      "|    true|  4.0|\n",
      "|    true|  4.0|\n",
      "|    true|  4.0|\n",
      "|    true|  4.0|\n",
      "|    true|  3.0|\n",
      "|    true|  4.0|\n",
      "|    true|  4.0|\n",
      "|    true|  4.0|\n",
      "|    true|  4.0|\n",
      "|    true|  4.0|\n",
      "|    true|  4.0|\n",
      "|    true|  3.0|\n",
      "|    true|  4.0|\n",
      "|    true|  4.0|\n",
      "|    true|  4.0|\n",
      "|    true|  4.0|\n",
      "|    true|  4.0|\n",
      "+--------+-----+\n",
      "only showing top 20 rows\n",
      "\n"
     ]
    }
   ],
   "source": [
    "from pyspark.sql.functions import expr\n",
    "score=data.fillna(0,good_features).withColumn('score',expr(sum_expression)).select('is_match','score')\n",
    "score.show()"
   ]
  },
  {
   "cell_type": "code",
   "execution_count": 133,
   "id": "d4984448",
   "metadata": {},
   "outputs": [],
   "source": [
    "def crossTabs(scored: DataFrame, t: DoubleType) -> DataFrame:\n",
    "    return scored.selectExpr(f\"score>={t} as above\",\"is_match\").groupBy(\"above\").pivot(\"is_match\",(\"true\",\"false\")).count()"
   ]
  },
  {
   "cell_type": "code",
   "execution_count": 135,
   "id": "e0ca9e25",
   "metadata": {},
   "outputs": [
    {
     "name": "stdout",
     "output_type": "stream",
     "text": [
      "+-----+----+------+\n",
      "|above|true| false|\n",
      "+-----+----+------+\n",
      "| NULL|   4|  1353|\n",
      "| true|1967|  NULL|\n",
      "|false| 122|571467|\n",
      "+-----+----+------+\n",
      "\n"
     ]
    }
   ],
   "source": [
    "cm1=crossTabs(score,4.0)\n",
    "cm1.show()"
   ]
  },
  {
   "cell_type": "code",
   "execution_count": 139,
   "id": "23b9bab9",
   "metadata": {},
   "outputs": [],
   "source": [
    "tp=cm1.filter(\"above==true\").select(\"true\").collect()[0].true\n",
    "tn=cm1.filter(\"above==true\").select(\"false\").collect()[0].false\n",
    "fn=cm1.filter(\"above==false\").select('false').collect()[0].false\n",
    "fp=cm1.filter(\"above==false\").select('true').collect()[0].true"
   ]
  },
  {
   "cell_type": "code",
   "execution_count": 140,
   "id": "3fa8c86f",
   "metadata": {},
   "outputs": [
    {
     "name": "stdout",
     "output_type": "stream",
     "text": [
      "0.9415988511249401\n"
     ]
    }
   ],
   "source": [
    "acc=tp/(tp+fp)\n",
    "print(acc)"
   ]
  },
  {
   "cell_type": "code",
   "execution_count": 141,
   "id": "6fcebc05",
   "metadata": {},
   "outputs": [
    {
     "name": "stdout",
     "output_type": "stream",
     "text": [
      "0.0034302116721366366\n"
     ]
    }
   ],
   "source": [
    "recall=tp/(tp+fn)\n",
    "print(recall)"
   ]
  },
  {
   "cell_type": "code",
   "execution_count": null,
   "id": "0877f651",
   "metadata": {},
   "outputs": [],
   "source": []
  },
  {
   "cell_type": "code",
   "execution_count": null,
   "id": "c9d6c884",
   "metadata": {},
   "outputs": [],
   "source": []
  },
  {
   "cell_type": "code",
   "execution_count": null,
   "id": "8b28a451",
   "metadata": {},
   "outputs": [],
   "source": []
  },
  {
   "cell_type": "code",
   "execution_count": null,
   "id": "aa181b2c",
   "metadata": {},
   "outputs": [],
   "source": []
  },
  {
   "cell_type": "code",
   "execution_count": null,
   "id": "d490ca1e",
   "metadata": {},
   "outputs": [],
   "source": []
  },
  {
   "cell_type": "code",
   "execution_count": null,
   "id": "93fdf8ae",
   "metadata": {},
   "outputs": [],
   "source": []
  },
  {
   "cell_type": "code",
   "execution_count": null,
   "id": "9abaae55",
   "metadata": {},
   "outputs": [],
   "source": []
  },
  {
   "cell_type": "code",
   "execution_count": null,
   "id": "d0dfbfea",
   "metadata": {},
   "outputs": [],
   "source": []
  },
  {
   "cell_type": "code",
   "execution_count": null,
   "id": "e74e5bdd",
   "metadata": {},
   "outputs": [],
   "source": []
  },
  {
   "cell_type": "code",
   "execution_count": null,
   "id": "e6ab36ac",
   "metadata": {},
   "outputs": [],
   "source": []
  },
  {
   "cell_type": "code",
   "execution_count": null,
   "id": "43f26620",
   "metadata": {},
   "outputs": [],
   "source": []
  },
  {
   "cell_type": "code",
   "execution_count": null,
   "id": "19b9a892",
   "metadata": {},
   "outputs": [],
   "source": []
  },
  {
   "cell_type": "code",
   "execution_count": null,
   "id": "3c8954e9",
   "metadata": {},
   "outputs": [],
   "source": []
  },
  {
   "cell_type": "code",
   "execution_count": null,
   "id": "02139ca4",
   "metadata": {},
   "outputs": [],
   "source": []
  },
  {
   "cell_type": "code",
   "execution_count": null,
   "id": "ddaa921c",
   "metadata": {},
   "outputs": [],
   "source": []
  },
  {
   "cell_type": "code",
   "execution_count": null,
   "id": "1ee70896",
   "metadata": {},
   "outputs": [],
   "source": []
  },
  {
   "cell_type": "code",
   "execution_count": null,
   "id": "750f2072",
   "metadata": {},
   "outputs": [],
   "source": []
  },
  {
   "cell_type": "code",
   "execution_count": null,
   "id": "4418d134",
   "metadata": {},
   "outputs": [],
   "source": []
  },
  {
   "cell_type": "code",
   "execution_count": null,
   "id": "5d526e6f",
   "metadata": {},
   "outputs": [],
   "source": []
  },
  {
   "cell_type": "code",
   "execution_count": null,
   "id": "e7114578",
   "metadata": {},
   "outputs": [],
   "source": []
  },
  {
   "cell_type": "code",
   "execution_count": null,
   "id": "488e1183",
   "metadata": {},
   "outputs": [],
   "source": []
  },
  {
   "cell_type": "code",
   "execution_count": null,
   "id": "00159619",
   "metadata": {},
   "outputs": [],
   "source": []
  },
  {
   "cell_type": "code",
   "execution_count": null,
   "id": "f6990aa3",
   "metadata": {},
   "outputs": [],
   "source": []
  },
  {
   "cell_type": "code",
   "execution_count": null,
   "id": "bcf193ed",
   "metadata": {},
   "outputs": [],
   "source": []
  },
  {
   "cell_type": "code",
   "execution_count": null,
   "id": "59495ae1",
   "metadata": {},
   "outputs": [],
   "source": []
  },
  {
   "cell_type": "code",
   "execution_count": null,
   "id": "d8b96ba5",
   "metadata": {},
   "outputs": [],
   "source": []
  },
  {
   "cell_type": "code",
   "execution_count": null,
   "id": "a0c17291",
   "metadata": {},
   "outputs": [],
   "source": []
  },
  {
   "cell_type": "code",
   "execution_count": null,
   "id": "7a73454e",
   "metadata": {},
   "outputs": [],
   "source": []
  },
  {
   "cell_type": "code",
   "execution_count": null,
   "id": "2c8eb753",
   "metadata": {},
   "outputs": [],
   "source": []
  },
  {
   "cell_type": "code",
   "execution_count": null,
   "id": "d7f0ae89",
   "metadata": {},
   "outputs": [],
   "source": []
  },
  {
   "cell_type": "code",
   "execution_count": null,
   "id": "651f603c",
   "metadata": {},
   "outputs": [],
   "source": []
  },
  {
   "cell_type": "code",
   "execution_count": null,
   "id": "c098c668",
   "metadata": {},
   "outputs": [],
   "source": []
  },
  {
   "cell_type": "code",
   "execution_count": null,
   "id": "eea07179",
   "metadata": {},
   "outputs": [],
   "source": []
  },
  {
   "cell_type": "code",
   "execution_count": null,
   "id": "69f9734b",
   "metadata": {},
   "outputs": [],
   "source": []
  },
  {
   "cell_type": "code",
   "execution_count": null,
   "id": "1b6472f9",
   "metadata": {},
   "outputs": [],
   "source": []
  },
  {
   "cell_type": "code",
   "execution_count": null,
   "id": "60bfc357",
   "metadata": {},
   "outputs": [],
   "source": []
  },
  {
   "cell_type": "code",
   "execution_count": null,
   "id": "550ea2e6",
   "metadata": {},
   "outputs": [],
   "source": []
  },
  {
   "cell_type": "code",
   "execution_count": null,
   "id": "b8864a32",
   "metadata": {},
   "outputs": [],
   "source": []
  },
  {
   "cell_type": "code",
   "execution_count": null,
   "id": "e9f152b3",
   "metadata": {},
   "outputs": [],
   "source": []
  },
  {
   "cell_type": "code",
   "execution_count": null,
   "id": "e0693c9d",
   "metadata": {},
   "outputs": [],
   "source": []
  },
  {
   "cell_type": "code",
   "execution_count": null,
   "id": "aa4eacf1",
   "metadata": {},
   "outputs": [],
   "source": []
  },
  {
   "cell_type": "code",
   "execution_count": null,
   "id": "6cc2da59",
   "metadata": {},
   "outputs": [],
   "source": []
  },
  {
   "cell_type": "code",
   "execution_count": null,
   "id": "cc7bfd84",
   "metadata": {},
   "outputs": [],
   "source": []
  },
  {
   "cell_type": "code",
   "execution_count": null,
   "id": "a1801e61",
   "metadata": {},
   "outputs": [],
   "source": []
  },
  {
   "cell_type": "code",
   "execution_count": null,
   "id": "cf6c654b",
   "metadata": {},
   "outputs": [],
   "source": []
  },
  {
   "cell_type": "code",
   "execution_count": null,
   "id": "3594b2a4",
   "metadata": {},
   "outputs": [],
   "source": []
  },
  {
   "cell_type": "code",
   "execution_count": null,
   "id": "243af882",
   "metadata": {},
   "outputs": [],
   "source": []
  },
  {
   "cell_type": "code",
   "execution_count": null,
   "id": "0a5f0f8d",
   "metadata": {},
   "outputs": [],
   "source": []
  },
  {
   "cell_type": "code",
   "execution_count": null,
   "id": "7f3b325e",
   "metadata": {},
   "outputs": [],
   "source": []
  },
  {
   "cell_type": "code",
   "execution_count": null,
   "id": "cead3295",
   "metadata": {},
   "outputs": [],
   "source": []
  },
  {
   "cell_type": "code",
   "execution_count": null,
   "id": "98d74e80",
   "metadata": {},
   "outputs": [],
   "source": []
  },
  {
   "cell_type": "code",
   "execution_count": null,
   "id": "50658223",
   "metadata": {},
   "outputs": [],
   "source": []
  },
  {
   "cell_type": "code",
   "execution_count": null,
   "id": "01d3668f",
   "metadata": {},
   "outputs": [],
   "source": []
  },
  {
   "cell_type": "code",
   "execution_count": null,
   "id": "a508c602",
   "metadata": {},
   "outputs": [],
   "source": []
  },
  {
   "cell_type": "code",
   "execution_count": null,
   "id": "0a5af397",
   "metadata": {},
   "outputs": [],
   "source": []
  },
  {
   "cell_type": "code",
   "execution_count": null,
   "id": "1de9179a",
   "metadata": {},
   "outputs": [],
   "source": []
  },
  {
   "cell_type": "code",
   "execution_count": null,
   "id": "56e8aa5b",
   "metadata": {},
   "outputs": [],
   "source": []
  },
  {
   "cell_type": "code",
   "execution_count": null,
   "id": "d4375d89",
   "metadata": {},
   "outputs": [],
   "source": []
  },
  {
   "cell_type": "code",
   "execution_count": null,
   "id": "d32c4815",
   "metadata": {},
   "outputs": [],
   "source": []
  },
  {
   "cell_type": "code",
   "execution_count": null,
   "id": "a8f2c857",
   "metadata": {},
   "outputs": [],
   "source": []
  },
  {
   "cell_type": "code",
   "execution_count": null,
   "id": "532ed2f8",
   "metadata": {},
   "outputs": [],
   "source": []
  },
  {
   "cell_type": "code",
   "execution_count": null,
   "id": "58035811",
   "metadata": {},
   "outputs": [],
   "source": []
  },
  {
   "cell_type": "code",
   "execution_count": null,
   "id": "8df350ad",
   "metadata": {},
   "outputs": [],
   "source": []
  },
  {
   "cell_type": "code",
   "execution_count": null,
   "id": "3d7ce1c0",
   "metadata": {},
   "outputs": [],
   "source": []
  },
  {
   "cell_type": "code",
   "execution_count": null,
   "id": "23e8343b",
   "metadata": {},
   "outputs": [],
   "source": []
  },
  {
   "cell_type": "code",
   "execution_count": null,
   "id": "f16b709a",
   "metadata": {},
   "outputs": [],
   "source": []
  },
  {
   "cell_type": "code",
   "execution_count": null,
   "id": "772efccf",
   "metadata": {},
   "outputs": [],
   "source": []
  },
  {
   "cell_type": "code",
   "execution_count": null,
   "id": "ae744cdf",
   "metadata": {},
   "outputs": [],
   "source": []
  },
  {
   "cell_type": "code",
   "execution_count": null,
   "id": "b39f5ddc",
   "metadata": {},
   "outputs": [],
   "source": []
  },
  {
   "cell_type": "code",
   "execution_count": null,
   "id": "38707038",
   "metadata": {},
   "outputs": [],
   "source": []
  },
  {
   "cell_type": "code",
   "execution_count": null,
   "id": "8da12d3d",
   "metadata": {},
   "outputs": [],
   "source": []
  },
  {
   "cell_type": "code",
   "execution_count": null,
   "id": "462fc4fa",
   "metadata": {},
   "outputs": [],
   "source": []
  },
  {
   "cell_type": "code",
   "execution_count": null,
   "id": "13355260",
   "metadata": {},
   "outputs": [],
   "source": []
  },
  {
   "cell_type": "code",
   "execution_count": null,
   "id": "d4b0640c",
   "metadata": {},
   "outputs": [],
   "source": []
  },
  {
   "cell_type": "code",
   "execution_count": null,
   "id": "0c23defd",
   "metadata": {},
   "outputs": [],
   "source": []
  },
  {
   "cell_type": "code",
   "execution_count": null,
   "id": "3ee77968",
   "metadata": {},
   "outputs": [],
   "source": []
  },
  {
   "cell_type": "code",
   "execution_count": null,
   "id": "eeb32cf4",
   "metadata": {},
   "outputs": [],
   "source": []
  },
  {
   "cell_type": "code",
   "execution_count": null,
   "id": "0ff28937",
   "metadata": {},
   "outputs": [],
   "source": []
  },
  {
   "cell_type": "code",
   "execution_count": null,
   "id": "29dadbe2",
   "metadata": {},
   "outputs": [],
   "source": []
  },
  {
   "cell_type": "code",
   "execution_count": null,
   "id": "19989703",
   "metadata": {},
   "outputs": [],
   "source": []
  },
  {
   "cell_type": "code",
   "execution_count": null,
   "id": "bdf157a7",
   "metadata": {},
   "outputs": [],
   "source": []
  },
  {
   "cell_type": "code",
   "execution_count": null,
   "id": "3ccf6e8b",
   "metadata": {},
   "outputs": [],
   "source": []
  },
  {
   "cell_type": "code",
   "execution_count": null,
   "id": "57f45c3f",
   "metadata": {},
   "outputs": [],
   "source": []
  },
  {
   "cell_type": "code",
   "execution_count": null,
   "id": "f0246cd1",
   "metadata": {},
   "outputs": [],
   "source": []
  },
  {
   "cell_type": "code",
   "execution_count": null,
   "id": "df48e145",
   "metadata": {},
   "outputs": [],
   "source": []
  },
  {
   "cell_type": "code",
   "execution_count": null,
   "id": "85ad32f0",
   "metadata": {},
   "outputs": [],
   "source": []
  },
  {
   "cell_type": "code",
   "execution_count": null,
   "id": "c2c5837a",
   "metadata": {},
   "outputs": [],
   "source": []
  },
  {
   "cell_type": "code",
   "execution_count": null,
   "id": "cce82b4e",
   "metadata": {},
   "outputs": [],
   "source": []
  },
  {
   "cell_type": "code",
   "execution_count": null,
   "id": "7c81e184",
   "metadata": {},
   "outputs": [],
   "source": []
  },
  {
   "cell_type": "code",
   "execution_count": null,
   "id": "346bbdea",
   "metadata": {},
   "outputs": [],
   "source": []
  },
  {
   "cell_type": "code",
   "execution_count": null,
   "id": "780e20f3",
   "metadata": {},
   "outputs": [],
   "source": []
  },
  {
   "cell_type": "code",
   "execution_count": null,
   "id": "fe0e93d8",
   "metadata": {},
   "outputs": [],
   "source": []
  },
  {
   "cell_type": "code",
   "execution_count": null,
   "id": "8c261095",
   "metadata": {},
   "outputs": [],
   "source": []
  },
  {
   "cell_type": "code",
   "execution_count": null,
   "id": "4d118622",
   "metadata": {},
   "outputs": [],
   "source": []
  },
  {
   "cell_type": "code",
   "execution_count": null,
   "id": "b87a883e",
   "metadata": {},
   "outputs": [],
   "source": []
  },
  {
   "cell_type": "code",
   "execution_count": null,
   "id": "02c2a941",
   "metadata": {},
   "outputs": [],
   "source": []
  },
  {
   "cell_type": "code",
   "execution_count": null,
   "id": "55063844",
   "metadata": {},
   "outputs": [],
   "source": []
  },
  {
   "cell_type": "code",
   "execution_count": null,
   "id": "0fce80fb",
   "metadata": {},
   "outputs": [],
   "source": []
  }
 ],
 "metadata": {
  "kernelspec": {
   "display_name": "Python 3 (ipykernel)",
   "language": "python",
   "name": "python3"
  },
  "language_info": {
   "codemirror_mode": {
    "name": "ipython",
    "version": 3
   },
   "file_extension": ".py",
   "mimetype": "text/x-python",
   "name": "python",
   "nbconvert_exporter": "python",
   "pygments_lexer": "ipython3",
   "version": "3.9.12"
  }
 },
 "nbformat": 4,
 "nbformat_minor": 5
}
